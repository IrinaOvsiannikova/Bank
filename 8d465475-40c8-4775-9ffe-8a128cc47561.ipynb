{
 "cells": [
  {
   "cell_type": "markdown",
   "metadata": {},
   "source": [
    "# Банки — Сегментация пользователей по потреблению."
   ]
  },
  {
   "cell_type": "markdown",
   "metadata": {},
   "source": [
    "## Материалы\n",
    "\n",
    "* Презентация https://disk.yandex.ru/i/kdtJ3SJaKeKjIg\n",
    "* Дашборд  https://public.tableau.com/app/profile/.35532716/viz/project_bank_16596096792850/Dashboard1?publish=yes"
   ]
  },
  {
   "cell_type": "markdown",
   "metadata": {},
   "source": [
    "## Описание проекта.\n",
    "\n",
    "Необходимо проанализировать клиентов регионального банка и сегментировать пользователей по количеству потребляемых продуктов.\n",
    "\n",
    "**`Цель проекта`** - проанализировать отток клиентов, предположить возможные причины оттока.\n",
    "\n",
    "**`Задачи проекта`**\n",
    "   - Провести исследовательский анализ данных;\n",
    "   - Сегментировать пользователей на основе данных о количестве потребляемых продуктов;\n",
    "   - Сформулировать и проверить статистические гипотезы;\n",
    "   - Проверить гипотезу различия дохода между теми клиентами, которые пользуются двумя продуктами банка, и теми, которые пользуются одним;\n",
    "   - Сформулировать и проверить статистическую гипотезу относительно представленных данных.\n",
    "\n",
    "\n",
    "**Описание данных**\n",
    "\n",
    "Датасет содержит данные о клиентах банка «Метанпром». Банк располагается в Ярославле и областных городах: Ростов Великий и Рыбинск.\n",
    "\n",
    "Колонки:\n",
    "\n",
    "- `userid` — идентификатор пользователя,\n",
    "- `score` — баллы кредитного скоринга,\n",
    "- `City` — город,\n",
    "- `Gender` — пол,\n",
    "- `Age` — возраст,\n",
    "- `Objects` — количество объектов в собственности,\n",
    "- `Balance` — баланс на счёте,\n",
    "- `Products` — количество продуктов, которыми пользуется клиент,\n",
    "- `CreditCard` — есть ли кредитная карта,\n",
    "- `Loyalty` — активный клиент,\n",
    "- `estimated_salary` — заработная плата клиента,\n",
    "- `Churn` — ушёл или нет."
   ]
  },
  {
   "cell_type": "markdown",
   "metadata": {},
   "source": [
    "## Загрузка данных, изучение общей информации."
   ]
  },
  {
   "cell_type": "markdown",
   "metadata": {},
   "source": [
    "### Импортируем нужные библиотеки и загрузим данные"
   ]
  },
  {
   "cell_type": "code",
   "execution_count": 118,
   "metadata": {},
   "outputs": [],
   "source": [
    "import pandas as pd\n",
    "import numpy as np\n",
    "import math as mth\n",
    "import matplotlib.pyplot as plt\n",
    "import seaborn as sns\n",
    "import plotly.express as px \n",
    "import warnings\n",
    "warnings.filterwarnings('ignore') \n",
    "\n",
    "from scipy import stats as st\n",
    "from plotly import graph_objects as go"
   ]
  },
  {
   "cell_type": "code",
   "execution_count": 119,
   "metadata": {
    "scrolled": true
   },
   "outputs": [
    {
     "data": {
      "text/html": [
       "<div>\n",
       "<style scoped>\n",
       "    .dataframe tbody tr th:only-of-type {\n",
       "        vertical-align: middle;\n",
       "    }\n",
       "\n",
       "    .dataframe tbody tr th {\n",
       "        vertical-align: top;\n",
       "    }\n",
       "\n",
       "    .dataframe thead th {\n",
       "        text-align: right;\n",
       "    }\n",
       "</style>\n",
       "<table border=\"1\" class=\"dataframe\">\n",
       "  <thead>\n",
       "    <tr style=\"text-align: right;\">\n",
       "      <th></th>\n",
       "      <th>userid</th>\n",
       "      <th>score</th>\n",
       "      <th>City</th>\n",
       "      <th>Gender</th>\n",
       "      <th>Age</th>\n",
       "      <th>Objects</th>\n",
       "      <th>Balance</th>\n",
       "      <th>Products</th>\n",
       "      <th>CreditCard</th>\n",
       "      <th>Loyalty</th>\n",
       "      <th>estimated_salary</th>\n",
       "      <th>Churn</th>\n",
       "    </tr>\n",
       "  </thead>\n",
       "  <tbody>\n",
       "    <tr>\n",
       "      <th>0</th>\n",
       "      <td>15677338</td>\n",
       "      <td>619</td>\n",
       "      <td>Ярославль</td>\n",
       "      <td>Ж</td>\n",
       "      <td>42</td>\n",
       "      <td>2</td>\n",
       "      <td>NaN</td>\n",
       "      <td>1</td>\n",
       "      <td>1</td>\n",
       "      <td>1</td>\n",
       "      <td>101348.88</td>\n",
       "      <td>1</td>\n",
       "    </tr>\n",
       "    <tr>\n",
       "      <th>1</th>\n",
       "      <td>15690047</td>\n",
       "      <td>608</td>\n",
       "      <td>Рыбинск</td>\n",
       "      <td>Ж</td>\n",
       "      <td>41</td>\n",
       "      <td>1</td>\n",
       "      <td>83807.86</td>\n",
       "      <td>1</td>\n",
       "      <td>0</td>\n",
       "      <td>1</td>\n",
       "      <td>112542.58</td>\n",
       "      <td>0</td>\n",
       "    </tr>\n",
       "    <tr>\n",
       "      <th>2</th>\n",
       "      <td>15662040</td>\n",
       "      <td>502</td>\n",
       "      <td>Ярославль</td>\n",
       "      <td>Ж</td>\n",
       "      <td>42</td>\n",
       "      <td>8</td>\n",
       "      <td>159660.80</td>\n",
       "      <td>3</td>\n",
       "      <td>1</td>\n",
       "      <td>0</td>\n",
       "      <td>113931.57</td>\n",
       "      <td>1</td>\n",
       "    </tr>\n",
       "    <tr>\n",
       "      <th>3</th>\n",
       "      <td>15744090</td>\n",
       "      <td>699</td>\n",
       "      <td>Ярославль</td>\n",
       "      <td>Ж</td>\n",
       "      <td>39</td>\n",
       "      <td>1</td>\n",
       "      <td>NaN</td>\n",
       "      <td>2</td>\n",
       "      <td>0</td>\n",
       "      <td>0</td>\n",
       "      <td>93826.63</td>\n",
       "      <td>0</td>\n",
       "    </tr>\n",
       "    <tr>\n",
       "      <th>4</th>\n",
       "      <td>15780624</td>\n",
       "      <td>850</td>\n",
       "      <td>Рыбинск</td>\n",
       "      <td>Ж</td>\n",
       "      <td>43</td>\n",
       "      <td>2</td>\n",
       "      <td>125510.82</td>\n",
       "      <td>1</td>\n",
       "      <td>1</td>\n",
       "      <td>1</td>\n",
       "      <td>79084.10</td>\n",
       "      <td>0</td>\n",
       "    </tr>\n",
       "    <tr>\n",
       "      <th>...</th>\n",
       "      <td>...</td>\n",
       "      <td>...</td>\n",
       "      <td>...</td>\n",
       "      <td>...</td>\n",
       "      <td>...</td>\n",
       "      <td>...</td>\n",
       "      <td>...</td>\n",
       "      <td>...</td>\n",
       "      <td>...</td>\n",
       "      <td>...</td>\n",
       "      <td>...</td>\n",
       "      <td>...</td>\n",
       "    </tr>\n",
       "    <tr>\n",
       "      <th>9995</th>\n",
       "      <td>15648965</td>\n",
       "      <td>771</td>\n",
       "      <td>Ярославль</td>\n",
       "      <td>М</td>\n",
       "      <td>39</td>\n",
       "      <td>5</td>\n",
       "      <td>NaN</td>\n",
       "      <td>2</td>\n",
       "      <td>1</td>\n",
       "      <td>0</td>\n",
       "      <td>96270.64</td>\n",
       "      <td>0</td>\n",
       "    </tr>\n",
       "    <tr>\n",
       "      <th>9996</th>\n",
       "      <td>15612628</td>\n",
       "      <td>516</td>\n",
       "      <td>Ярославль</td>\n",
       "      <td>М</td>\n",
       "      <td>35</td>\n",
       "      <td>10</td>\n",
       "      <td>57369.61</td>\n",
       "      <td>1</td>\n",
       "      <td>1</td>\n",
       "      <td>1</td>\n",
       "      <td>101699.77</td>\n",
       "      <td>0</td>\n",
       "    </tr>\n",
       "    <tr>\n",
       "      <th>9997</th>\n",
       "      <td>15627268</td>\n",
       "      <td>709</td>\n",
       "      <td>Ярославль</td>\n",
       "      <td>Ж</td>\n",
       "      <td>36</td>\n",
       "      <td>7</td>\n",
       "      <td>NaN</td>\n",
       "      <td>1</td>\n",
       "      <td>0</td>\n",
       "      <td>1</td>\n",
       "      <td>42085.58</td>\n",
       "      <td>1</td>\n",
       "    </tr>\n",
       "    <tr>\n",
       "      <th>9998</th>\n",
       "      <td>15725091</td>\n",
       "      <td>772</td>\n",
       "      <td>Ростов Великий</td>\n",
       "      <td>М</td>\n",
       "      <td>42</td>\n",
       "      <td>3</td>\n",
       "      <td>75075.31</td>\n",
       "      <td>2</td>\n",
       "      <td>1</td>\n",
       "      <td>0</td>\n",
       "      <td>92888.52</td>\n",
       "      <td>1</td>\n",
       "    </tr>\n",
       "    <tr>\n",
       "      <th>9999</th>\n",
       "      <td>15671055</td>\n",
       "      <td>792</td>\n",
       "      <td>Ярославль</td>\n",
       "      <td>Ж</td>\n",
       "      <td>28</td>\n",
       "      <td>4</td>\n",
       "      <td>130142.79</td>\n",
       "      <td>1</td>\n",
       "      <td>1</td>\n",
       "      <td>0</td>\n",
       "      <td>38190.78</td>\n",
       "      <td>0</td>\n",
       "    </tr>\n",
       "  </tbody>\n",
       "</table>\n",
       "<p>10000 rows × 12 columns</p>\n",
       "</div>"
      ],
      "text/plain": [
       "        userid  score            City Gender  Age  Objects    Balance  \\\n",
       "0     15677338    619       Ярославль      Ж   42        2        NaN   \n",
       "1     15690047    608         Рыбинск      Ж   41        1   83807.86   \n",
       "2     15662040    502       Ярославль      Ж   42        8  159660.80   \n",
       "3     15744090    699       Ярославль      Ж   39        1        NaN   \n",
       "4     15780624    850         Рыбинск      Ж   43        2  125510.82   \n",
       "...        ...    ...             ...    ...  ...      ...        ...   \n",
       "9995  15648965    771       Ярославль      М   39        5        NaN   \n",
       "9996  15612628    516       Ярославль      М   35       10   57369.61   \n",
       "9997  15627268    709       Ярославль      Ж   36        7        NaN   \n",
       "9998  15725091    772  Ростов Великий      М   42        3   75075.31   \n",
       "9999  15671055    792       Ярославль      Ж   28        4  130142.79   \n",
       "\n",
       "      Products  CreditCard  Loyalty  estimated_salary  Churn  \n",
       "0            1           1        1         101348.88      1  \n",
       "1            1           0        1         112542.58      0  \n",
       "2            3           1        0         113931.57      1  \n",
       "3            2           0        0          93826.63      0  \n",
       "4            1           1        1          79084.10      0  \n",
       "...        ...         ...      ...               ...    ...  \n",
       "9995         2           1        0          96270.64      0  \n",
       "9996         1           1        1         101699.77      0  \n",
       "9997         1           0        1          42085.58      1  \n",
       "9998         2           1        0          92888.52      1  \n",
       "9999         1           1        0          38190.78      0  \n",
       "\n",
       "[10000 rows x 12 columns]"
      ]
     },
     "execution_count": 119,
     "metadata": {},
     "output_type": "execute_result"
    }
   ],
   "source": [
    "#откроем файл с данными, ознакомимся с ними\n",
    "data = pd.read_csv('/datasets/bank_dataset.csv')\n",
    "data"
   ]
  },
  {
   "cell_type": "markdown",
   "metadata": {},
   "source": [
    "#### Вывод"
   ]
  },
  {
   "cell_type": "markdown",
   "metadata": {},
   "source": [
    "Просмотрев данные мы видим, что некоторые названия колонок указаны некорректно, их необходимо привести к нижнему змеинному регистру. Также видим, что в данных имеются пропущенные значения."
   ]
  },
  {
   "cell_type": "markdown",
   "metadata": {},
   "source": [
    "### Изучим общую информацию"
   ]
  },
  {
   "cell_type": "code",
   "execution_count": 120,
   "metadata": {},
   "outputs": [
    {
     "name": "stdout",
     "output_type": "stream",
     "text": [
      "<class 'pandas.core.frame.DataFrame'>\n",
      "RangeIndex: 10000 entries, 0 to 9999\n",
      "Data columns (total 12 columns):\n",
      " #   Column            Non-Null Count  Dtype  \n",
      "---  ------            --------------  -----  \n",
      " 0   userid            10000 non-null  int64  \n",
      " 1   score             10000 non-null  int64  \n",
      " 2   City              10000 non-null  object \n",
      " 3   Gender            10000 non-null  object \n",
      " 4   Age               10000 non-null  int64  \n",
      " 5   Objects           10000 non-null  int64  \n",
      " 6   Balance           6383 non-null   float64\n",
      " 7   Products          10000 non-null  int64  \n",
      " 8   CreditCard        10000 non-null  int64  \n",
      " 9   Loyalty           10000 non-null  int64  \n",
      " 10  estimated_salary  10000 non-null  float64\n",
      " 11  Churn             10000 non-null  int64  \n",
      "dtypes: float64(2), int64(8), object(2)\n",
      "memory usage: 937.6+ KB\n"
     ]
    }
   ],
   "source": [
    "data.info()"
   ]
  },
  {
   "cell_type": "markdown",
   "metadata": {},
   "source": [
    "#### Вывод"
   ]
  },
  {
   "cell_type": "markdown",
   "metadata": {},
   "source": [
    "В колонке **balance** мы видим большую часть пропущенных значений, в остальных колонках данные представлены в полном объеме. В данных мы видим бинарную замену категориальных признаков."
   ]
  },
  {
   "cell_type": "markdown",
   "metadata": {},
   "source": [
    "### Вывод"
   ]
  },
  {
   "cell_type": "markdown",
   "metadata": {},
   "source": [
    "* Мы подгрузили необходимые для работы библиотеки, прочитали файл и ознакомились с данными. Сразу бросается в глаза некорректное наименование колонок, все названия необходимо привести к нижнему змеиному регистру. \n",
    "\n",
    "\n",
    "* При помощи метода info() мы ознакомились с основной информацией по данным и увидели,  что в данных присутствует бинарная замена категориальных признаков."
   ]
  },
  {
   "cell_type": "markdown",
   "metadata": {},
   "source": [
    "## Предобработка данных."
   ]
  },
  {
   "cell_type": "markdown",
   "metadata": {},
   "source": [
    "### Преобразуем наименований колонок"
   ]
  },
  {
   "cell_type": "code",
   "execution_count": 121,
   "metadata": {
    "scrolled": true
   },
   "outputs": [
    {
     "data": {
      "text/plain": [
       "Index(['userid', 'score', 'city', 'gender', 'age', 'objects', 'balance',\n",
       "       'products', 'creditcard', 'loyalty', 'estimated_salary', 'churn'],\n",
       "      dtype='object')"
      ]
     },
     "execution_count": 121,
     "metadata": {},
     "output_type": "execute_result"
    }
   ],
   "source": [
    "#приведем названия таблицы к нижнему регистру\n",
    "data.columns = data.columns.str.lower()\n",
    "data.columns"
   ]
  },
  {
   "cell_type": "code",
   "execution_count": 122,
   "metadata": {
    "scrolled": true
   },
   "outputs": [
    {
     "data": {
      "text/plain": [
       "Index(['user_id', 'score', 'city', 'gender', 'age', 'objects', 'balance',\n",
       "       'products', 'credit_card', 'loyalty', 'estimated_salary', 'churn'],\n",
       "      dtype='object')"
      ]
     },
     "execution_count": 122,
     "metadata": {},
     "output_type": "execute_result"
    }
   ],
   "source": [
    "#приведем названия колонок таблицы к змеинному регистру\n",
    "\n",
    "data = data.rename(columns = {\n",
    "'creditcard':'credit_card',\n",
    "'userid':'user_id'\n",
    "})\n",
    "\n",
    "data.columns"
   ]
  },
  {
   "cell_type": "markdown",
   "metadata": {},
   "source": [
    "#### Вывод"
   ]
  },
  {
   "cell_type": "markdown",
   "metadata": {},
   "source": [
    "При помощи методов columns и rename мы привели названия колонок к нижнему змеинному регистру. Теперь наименования указаны корректно."
   ]
  },
  {
   "cell_type": "markdown",
   "metadata": {},
   "source": [
    "### Создадим новый столбец с навзаниями параметров оттока"
   ]
  },
  {
   "cell_type": "markdown",
   "metadata": {},
   "source": [
    "Это необходимо нам для корректного создания фильтрации в дашборде."
   ]
  },
  {
   "cell_type": "code",
   "execution_count": 123,
   "metadata": {},
   "outputs": [],
   "source": [
    "#создадим функцию, которая принимает на вход один параметр (показатель оттока) и на выходе дает присваивает ему название\n",
    "\n",
    "def churn (value):\n",
    "\n",
    "    if value == 0:\n",
    "        return 'Остался'\n",
    "    elif value == 1:\n",
    "        return'Ушел'"
   ]
  },
  {
   "cell_type": "code",
   "execution_count": 124,
   "metadata": {},
   "outputs": [],
   "source": [
    "#создадим новый столбец с названиями по оттоку, при помощи метода apply() передадим функции churn столбец 'churn'\n",
    "\n",
    "data['churn_new'] = data['churn'].apply(churn)"
   ]
  },
  {
   "cell_type": "markdown",
   "metadata": {},
   "source": [
    "#### Вывод"
   ]
  },
  {
   "cell_type": "markdown",
   "metadata": {},
   "source": [
    "При помощи функции и метода apply() мы создали новый столбец с названиями по оттоку."
   ]
  },
  {
   "cell_type": "markdown",
   "metadata": {},
   "source": [
    "### Проверим данные на пропущенные значения"
   ]
  },
  {
   "cell_type": "code",
   "execution_count": 125,
   "metadata": {
    "scrolled": true
   },
   "outputs": [
    {
     "data": {
      "text/plain": [
       "user_id                0\n",
       "score                  0\n",
       "city                   0\n",
       "gender                 0\n",
       "age                    0\n",
       "objects                0\n",
       "balance             3617\n",
       "products               0\n",
       "credit_card            0\n",
       "loyalty                0\n",
       "estimated_salary       0\n",
       "churn                  0\n",
       "churn_new              0\n",
       "dtype: int64"
      ]
     },
     "execution_count": 125,
     "metadata": {},
     "output_type": "execute_result"
    }
   ],
   "source": [
    "data.isna().sum()"
   ]
  },
  {
   "cell_type": "code",
   "execution_count": 126,
   "metadata": {},
   "outputs": [
    {
     "data": {
      "text/plain": [
       "36.17"
      ]
     },
     "execution_count": 126,
     "metadata": {},
     "output_type": "execute_result"
    }
   ],
   "source": [
    "#подсчитаем процент пропусков в колонке balance\n",
    "\n",
    "3617/len(data['balance'])*100"
   ]
  },
  {
   "cell_type": "markdown",
   "metadata": {},
   "source": [
    "**Посмотрим на кол-во пропусков в различных разрезах**"
   ]
  },
  {
   "cell_type": "code",
   "execution_count": 127,
   "metadata": {
    "scrolled": true
   },
   "outputs": [
    {
     "name": "stdout",
     "output_type": "stream",
     "text": [
      "<class 'pandas.core.frame.DataFrame'>\n",
      "Int64Index: 5151 entries, 0 to 9997\n",
      "Data columns (total 2 columns):\n",
      " #   Column   Non-Null Count  Dtype  \n",
      "---  ------   --------------  -----  \n",
      " 0   balance  3278 non-null   float64\n",
      " 1   city     5151 non-null   object \n",
      "dtypes: float64(1), object(1)\n",
      "memory usage: 120.7+ KB\n"
     ]
    }
   ],
   "source": [
    "#проверим, влияет ли статус активности клиента на кол-во пропусков в колонке balance\n",
    "\n",
    "loyalty = data[data['loyalty']==1][['balance','city']]\n",
    "loyalty.info()"
   ]
  },
  {
   "cell_type": "code",
   "execution_count": 128,
   "metadata": {
    "scrolled": true
   },
   "outputs": [
    {
     "name": "stdout",
     "output_type": "stream",
     "text": [
      "<class 'pandas.core.frame.DataFrame'>\n",
      "Int64Index: 4849 entries, 2 to 9999\n",
      "Data columns (total 2 columns):\n",
      " #   Column   Non-Null Count  Dtype  \n",
      "---  ------   --------------  -----  \n",
      " 0   balance  3105 non-null   float64\n",
      " 1   city     4849 non-null   object \n",
      "dtypes: float64(1), object(1)\n",
      "memory usage: 113.6+ KB\n"
     ]
    }
   ],
   "source": [
    "#проверим, влияет ли статус активности клиента на кол-во пропусков в колонке balance\n",
    "\n",
    "loyalty = data[data['loyalty']==0][['balance','city']]\n",
    "loyalty.info()"
   ]
  },
  {
   "cell_type": "markdown",
   "metadata": {},
   "source": [
    ">У клиентов с разным статусом активности примерно равное кол-во пропусков в колонке balance"
   ]
  },
  {
   "cell_type": "code",
   "execution_count": 129,
   "metadata": {
    "scrolled": true
   },
   "outputs": [
    {
     "name": "stdout",
     "output_type": "stream",
     "text": [
      "<class 'pandas.core.frame.DataFrame'>\n",
      "Int64Index: 2945 entries, 1 to 9997\n",
      "Data columns (total 2 columns):\n",
      " #   Column   Non-Null Count  Dtype  \n",
      "---  ------   --------------  -----  \n",
      " 0   balance  1920 non-null   float64\n",
      " 1   city     2945 non-null   object \n",
      "dtypes: float64(1), object(1)\n",
      "memory usage: 69.0+ KB\n"
     ]
    }
   ],
   "source": [
    "#проверим, влияет ли наличие кредитной карты у клиента на кол-во пропусков в колонке balance\n",
    "\n",
    "loyalty = data[data['credit_card']==0][['balance','city']]\n",
    "loyalty.info()"
   ]
  },
  {
   "cell_type": "code",
   "execution_count": 130,
   "metadata": {
    "scrolled": true
   },
   "outputs": [
    {
     "name": "stdout",
     "output_type": "stream",
     "text": [
      "<class 'pandas.core.frame.DataFrame'>\n",
      "Int64Index: 7055 entries, 0 to 9999\n",
      "Data columns (total 2 columns):\n",
      " #   Column   Non-Null Count  Dtype  \n",
      "---  ------   --------------  -----  \n",
      " 0   balance  4463 non-null   float64\n",
      " 1   city     7055 non-null   object \n",
      "dtypes: float64(1), object(1)\n",
      "memory usage: 165.4+ KB\n"
     ]
    }
   ],
   "source": [
    "#проверим, влияет ли наличие кредитной карты у клиента на кол-во пропусков в колонке balance\n",
    "\n",
    "loyalty = data[data['credit_card']==1][['balance','city']]\n",
    "loyalty.info()"
   ]
  },
  {
   "cell_type": "markdown",
   "metadata": {},
   "source": [
    "> У клиентов, которые имеют кредитную карту, имеется существенное кол-во (70%) пропусков в колонке balance. Можно предположить, что данные клиенты живут засчет кредитки, соответственно на счету отсутствуют средства :("
   ]
  },
  {
   "cell_type": "markdown",
   "metadata": {},
   "source": [
    "#### Вывод"
   ]
  },
  {
   "cell_type": "markdown",
   "metadata": {},
   "source": [
    "При помощи методов isna() и sum() мы проверили данные на пропуски и подсчитали их кол-во. В колонке balance мы обнаружили существенное кол-во пропусков (чуть менее 40%). Мы не будем заменять данные значения на нули, т.к. в этом случае в дальнейшем анализе на наших графиках появятся выбросы, а также у нас нет необходимости создавать  модель, поэтому пропуски не помешают для выполнения задачи. Оставим их, как есть. Мы проанализировали данные в различных разрезах и выяснили, что у клиентов, которые имеют кредитную карту, имеется существенное кол-во пропусков в колонке balance. Можно предположить, что данные клиенты живут засчет кредитки, соответственно на счету отсутствуют средства."
   ]
  },
  {
   "cell_type": "markdown",
   "metadata": {},
   "source": [
    "### Проверим данные на явные дубликаты"
   ]
  },
  {
   "cell_type": "code",
   "execution_count": 131,
   "metadata": {},
   "outputs": [
    {
     "data": {
      "text/plain": [
       "0"
      ]
     },
     "execution_count": 131,
     "metadata": {},
     "output_type": "execute_result"
    }
   ],
   "source": [
    "data.duplicated().sum()"
   ]
  },
  {
   "cell_type": "markdown",
   "metadata": {},
   "source": [
    "#### Вывод"
   ]
  },
  {
   "cell_type": "markdown",
   "metadata": {},
   "source": [
    "При помощи метода duplicated() мы проверили данные на явные дубликаты. Явных дубликатов не обнаружено."
   ]
  },
  {
   "cell_type": "markdown",
   "metadata": {},
   "source": [
    "### Проверим данные на неявные дубликаты"
   ]
  },
  {
   "cell_type": "code",
   "execution_count": 132,
   "metadata": {},
   "outputs": [
    {
     "data": {
      "text/plain": [
       "Ярославль         5014\n",
       "Ростов Великий    2509\n",
       "Рыбинск           2477\n",
       "Name: city, dtype: int64"
      ]
     },
     "execution_count": 132,
     "metadata": {},
     "output_type": "execute_result"
    }
   ],
   "source": [
    "data['city'].value_counts()"
   ]
  },
  {
   "cell_type": "code",
   "execution_count": 133,
   "metadata": {},
   "outputs": [
    {
     "data": {
      "text/plain": [
       "М    5457\n",
       "Ж    4543\n",
       "Name: gender, dtype: int64"
      ]
     },
     "execution_count": 133,
     "metadata": {},
     "output_type": "execute_result"
    }
   ],
   "source": [
    "data['gender'].value_counts()"
   ]
  },
  {
   "cell_type": "markdown",
   "metadata": {},
   "source": [
    "#### Вывод"
   ]
  },
  {
   "cell_type": "markdown",
   "metadata": {},
   "source": [
    "При помощи метода value_counts() мы проверили на неявные дубликаты колонки с типом данных object. Неявных дубликатов не обнаружено."
   ]
  },
  {
   "cell_type": "markdown",
   "metadata": {},
   "source": [
    "### Вывод"
   ]
  },
  {
   "cell_type": "markdown",
   "metadata": {},
   "source": [
    "* Мы преобразовали названия колонок, привели к нижнему регистру методом str.lower(), а также привели к змеинному регистру при помощи метода rename(). \n",
    "\n",
    "\n",
    "* При помощи методов isna(), duplicated(), sum() мы провели предобработку данных - явных и неявных дубликатов в данных не обнаружено. В колонке balance мы обнаружили существенное кол-во пропусков. Такая ситуация могла возникнуть в связи с тем, что у данных клиентов на счету не было средств. Мы не будем заменять данные значения на нули, т.к. в этом случае в дальнейшем анализе на наших графиках появятся выбросы, а также у нас нет необходимости создавать модель, поэтому пропуски не помешают для выполнения задачи. Оставим пропуски как есть. "
   ]
  },
  {
   "cell_type": "markdown",
   "metadata": {},
   "source": [
    "## Исследовательский анализ данных."
   ]
  },
  {
   "cell_type": "markdown",
   "metadata": {},
   "source": [
    "### Изучим средние значения и стандартные отклонения датасета"
   ]
  },
  {
   "cell_type": "code",
   "execution_count": 134,
   "metadata": {},
   "outputs": [
    {
     "data": {
      "text/html": [
       "<div>\n",
       "<style scoped>\n",
       "    .dataframe tbody tr th:only-of-type {\n",
       "        vertical-align: middle;\n",
       "    }\n",
       "\n",
       "    .dataframe tbody tr th {\n",
       "        vertical-align: top;\n",
       "    }\n",
       "\n",
       "    .dataframe thead th {\n",
       "        text-align: right;\n",
       "    }\n",
       "</style>\n",
       "<table border=\"1\" class=\"dataframe\">\n",
       "  <thead>\n",
       "    <tr style=\"text-align: right;\">\n",
       "      <th></th>\n",
       "      <th>count</th>\n",
       "      <th>mean</th>\n",
       "      <th>std</th>\n",
       "      <th>min</th>\n",
       "      <th>25%</th>\n",
       "      <th>50%</th>\n",
       "      <th>75%</th>\n",
       "      <th>max</th>\n",
       "    </tr>\n",
       "  </thead>\n",
       "  <tbody>\n",
       "    <tr>\n",
       "      <th>user_id</th>\n",
       "      <td>10000.0</td>\n",
       "      <td>15733676.57</td>\n",
       "      <td>71936.19</td>\n",
       "      <td>15608437.00</td>\n",
       "      <td>15671264.25</td>\n",
       "      <td>15733474.00</td>\n",
       "      <td>15795969.75</td>\n",
       "      <td>15858426.00</td>\n",
       "    </tr>\n",
       "    <tr>\n",
       "      <th>score</th>\n",
       "      <td>10000.0</td>\n",
       "      <td>650.53</td>\n",
       "      <td>96.65</td>\n",
       "      <td>350.00</td>\n",
       "      <td>584.00</td>\n",
       "      <td>652.00</td>\n",
       "      <td>718.00</td>\n",
       "      <td>850.00</td>\n",
       "    </tr>\n",
       "    <tr>\n",
       "      <th>age</th>\n",
       "      <td>10000.0</td>\n",
       "      <td>38.92</td>\n",
       "      <td>10.49</td>\n",
       "      <td>18.00</td>\n",
       "      <td>32.00</td>\n",
       "      <td>37.00</td>\n",
       "      <td>44.00</td>\n",
       "      <td>92.00</td>\n",
       "    </tr>\n",
       "    <tr>\n",
       "      <th>objects</th>\n",
       "      <td>10000.0</td>\n",
       "      <td>5.01</td>\n",
       "      <td>2.89</td>\n",
       "      <td>0.00</td>\n",
       "      <td>3.00</td>\n",
       "      <td>5.00</td>\n",
       "      <td>7.00</td>\n",
       "      <td>10.00</td>\n",
       "    </tr>\n",
       "    <tr>\n",
       "      <th>balance</th>\n",
       "      <td>6383.0</td>\n",
       "      <td>119827.49</td>\n",
       "      <td>30095.06</td>\n",
       "      <td>3768.69</td>\n",
       "      <td>100181.98</td>\n",
       "      <td>119839.69</td>\n",
       "      <td>139512.29</td>\n",
       "      <td>250898.09</td>\n",
       "    </tr>\n",
       "    <tr>\n",
       "      <th>products</th>\n",
       "      <td>10000.0</td>\n",
       "      <td>1.53</td>\n",
       "      <td>0.58</td>\n",
       "      <td>1.00</td>\n",
       "      <td>1.00</td>\n",
       "      <td>1.00</td>\n",
       "      <td>2.00</td>\n",
       "      <td>4.00</td>\n",
       "    </tr>\n",
       "    <tr>\n",
       "      <th>credit_card</th>\n",
       "      <td>10000.0</td>\n",
       "      <td>0.71</td>\n",
       "      <td>0.46</td>\n",
       "      <td>0.00</td>\n",
       "      <td>0.00</td>\n",
       "      <td>1.00</td>\n",
       "      <td>1.00</td>\n",
       "      <td>1.00</td>\n",
       "    </tr>\n",
       "    <tr>\n",
       "      <th>loyalty</th>\n",
       "      <td>10000.0</td>\n",
       "      <td>0.52</td>\n",
       "      <td>0.50</td>\n",
       "      <td>0.00</td>\n",
       "      <td>0.00</td>\n",
       "      <td>1.00</td>\n",
       "      <td>1.00</td>\n",
       "      <td>1.00</td>\n",
       "    </tr>\n",
       "    <tr>\n",
       "      <th>estimated_salary</th>\n",
       "      <td>10000.0</td>\n",
       "      <td>100090.24</td>\n",
       "      <td>57510.49</td>\n",
       "      <td>11.58</td>\n",
       "      <td>51002.11</td>\n",
       "      <td>100193.92</td>\n",
       "      <td>149388.25</td>\n",
       "      <td>199992.48</td>\n",
       "    </tr>\n",
       "    <tr>\n",
       "      <th>churn</th>\n",
       "      <td>10000.0</td>\n",
       "      <td>0.20</td>\n",
       "      <td>0.40</td>\n",
       "      <td>0.00</td>\n",
       "      <td>0.00</td>\n",
       "      <td>0.00</td>\n",
       "      <td>0.00</td>\n",
       "      <td>1.00</td>\n",
       "    </tr>\n",
       "  </tbody>\n",
       "</table>\n",
       "</div>"
      ],
      "text/plain": [
       "                    count         mean       std          min          25%  \\\n",
       "user_id           10000.0  15733676.57  71936.19  15608437.00  15671264.25   \n",
       "score             10000.0       650.53     96.65       350.00       584.00   \n",
       "age               10000.0        38.92     10.49        18.00        32.00   \n",
       "objects           10000.0         5.01      2.89         0.00         3.00   \n",
       "balance            6383.0    119827.49  30095.06      3768.69    100181.98   \n",
       "products          10000.0         1.53      0.58         1.00         1.00   \n",
       "credit_card       10000.0         0.71      0.46         0.00         0.00   \n",
       "loyalty           10000.0         0.52      0.50         0.00         0.00   \n",
       "estimated_salary  10000.0    100090.24  57510.49        11.58     51002.11   \n",
       "churn             10000.0         0.20      0.40         0.00         0.00   \n",
       "\n",
       "                          50%          75%          max  \n",
       "user_id           15733474.00  15795969.75  15858426.00  \n",
       "score                  652.00       718.00       850.00  \n",
       "age                     37.00        44.00        92.00  \n",
       "objects                  5.00         7.00        10.00  \n",
       "balance             119839.69    139512.29    250898.09  \n",
       "products                 1.00         2.00         4.00  \n",
       "credit_card              1.00         1.00         1.00  \n",
       "loyalty                  1.00         1.00         1.00  \n",
       "estimated_salary    100193.92    149388.25    199992.48  \n",
       "churn                    0.00         0.00         1.00  "
      ]
     },
     "execution_count": 134,
     "metadata": {},
     "output_type": "execute_result"
    }
   ],
   "source": [
    "data.describe().round(2).T"
   ]
  },
  {
   "cell_type": "markdown",
   "metadata": {},
   "source": [
    "#### Вывод"
   ]
  },
  {
   "cell_type": "markdown",
   "metadata": {},
   "source": [
    "Изучив средние значения и стандартные отклонения при помощи метода describe(), можно сделать выводы:\n",
    "\n",
    "* Средний балл кредитного скоринга составляет **650**\n",
    "* Средний возраст клиентов **38 лет**\n",
    "* Клиенты банка имеют в среднем **5 объектов собственности**\n",
    "* Средний баланс на счетах клиентов **119827**\n",
    "* В среднем клиенты банка имеют один продукт\n",
    "* Больше, чем у **70%** клиентов имеется кредитная карта\n",
    "* **51%** клиентов являются активными\n",
    "* В среднем заработная плата клиента составляет **100090**\n",
    "* Отток клиентов равен **20%**."
   ]
  },
  {
   "cell_type": "markdown",
   "metadata": {},
   "source": [
    "### Посмотрим на средние значения признаков в двух группах — тех, кто ушел в отток и тех, кто остался"
   ]
  },
  {
   "cell_type": "code",
   "execution_count": 135,
   "metadata": {
    "scrolled": true
   },
   "outputs": [
    {
     "data": {
      "text/html": [
       "<div>\n",
       "<style scoped>\n",
       "    .dataframe tbody tr th:only-of-type {\n",
       "        vertical-align: middle;\n",
       "    }\n",
       "\n",
       "    .dataframe tbody tr th {\n",
       "        vertical-align: top;\n",
       "    }\n",
       "\n",
       "    .dataframe thead th {\n",
       "        text-align: right;\n",
       "    }\n",
       "</style>\n",
       "<table border=\"1\" class=\"dataframe\">\n",
       "  <thead>\n",
       "    <tr style=\"text-align: right;\">\n",
       "      <th></th>\n",
       "      <th>оставшиеся</th>\n",
       "      <th>ушедшие</th>\n",
       "    </tr>\n",
       "  </thead>\n",
       "  <tbody>\n",
       "    <tr>\n",
       "      <th>user_id</th>\n",
       "      <td>15733903.88</td>\n",
       "      <td>15732787.96</td>\n",
       "    </tr>\n",
       "    <tr>\n",
       "      <th>score</th>\n",
       "      <td>651.85</td>\n",
       "      <td>645.35</td>\n",
       "    </tr>\n",
       "    <tr>\n",
       "      <th>age</th>\n",
       "      <td>37.41</td>\n",
       "      <td>44.84</td>\n",
       "    </tr>\n",
       "    <tr>\n",
       "      <th>objects</th>\n",
       "      <td>5.03</td>\n",
       "      <td>4.93</td>\n",
       "    </tr>\n",
       "    <tr>\n",
       "      <th>balance</th>\n",
       "      <td>119535.86</td>\n",
       "      <td>120746.97</td>\n",
       "    </tr>\n",
       "    <tr>\n",
       "      <th>products</th>\n",
       "      <td>1.54</td>\n",
       "      <td>1.48</td>\n",
       "    </tr>\n",
       "    <tr>\n",
       "      <th>credit_card</th>\n",
       "      <td>0.71</td>\n",
       "      <td>0.70</td>\n",
       "    </tr>\n",
       "    <tr>\n",
       "      <th>loyalty</th>\n",
       "      <td>0.55</td>\n",
       "      <td>0.36</td>\n",
       "    </tr>\n",
       "    <tr>\n",
       "      <th>estimated_salary</th>\n",
       "      <td>99738.39</td>\n",
       "      <td>101465.68</td>\n",
       "    </tr>\n",
       "  </tbody>\n",
       "</table>\n",
       "</div>"
      ],
      "text/plain": [
       "                   оставшиеся      ушедшие\n",
       "user_id           15733903.88  15732787.96\n",
       "score                  651.85       645.35\n",
       "age                     37.41        44.84\n",
       "objects                  5.03         4.93\n",
       "balance             119535.86    120746.97\n",
       "products                 1.54         1.48\n",
       "credit_card              0.71         0.70\n",
       "loyalty                  0.55         0.36\n",
       "estimated_salary     99738.39    101465.68"
      ]
     },
     "execution_count": 135,
     "metadata": {},
     "output_type": "execute_result"
    }
   ],
   "source": [
    "for column in data.columns:\n",
    "    df = data.groupby('churn').mean()\n",
    "\n",
    "\n",
    "df = df.T.round(2)\n",
    "df.columns = ['оставшиеся', 'ушедшие']\n",
    "df"
   ]
  },
  {
   "cell_type": "markdown",
   "metadata": {},
   "source": [
    "#### Вывод"
   ]
  },
  {
   "cell_type": "markdown",
   "metadata": {},
   "source": [
    "Для группировки данных по оттоку с средними значениями признаков мы создали цикл и применили методы groupby() и mean(). В разрезе по группам пользователей  оставшимся и ушедшим можно сделать выводы:\n",
    "\n",
    "* У ушедших клиентов **средний бал кредитного скоринга ниже, а возраст выше**\n",
    "* По кол-ву объектов в собственности и количеству продуктов существенной разницы между группами не наблюдается\n",
    "* Средний баланс на счете у ушедших клиентов немного выше \n",
    "* У 70% в обеих группам имеется кредитная карта\n",
    "* Среди ушедших клиентов  всего **36% являлись активными**\n",
    "* Средняя заработная плата ушедших клиентов немного выше."
   ]
  },
  {
   "cell_type": "markdown",
   "metadata": {},
   "source": [
    "### Построим столбчатые гистограммы и распределения признаков для тех, кто ушёл (отток) и тех, кто остался (не попали в отток)"
   ]
  },
  {
   "cell_type": "code",
   "execution_count": 136,
   "metadata": {},
   "outputs": [],
   "source": [
    "#выделим датасет только с количественными признаками\n",
    "df1 = data.drop(['user_id','city', 'gender', 'credit_card', 'loyalty', 'churn'], axis = 1)"
   ]
  },
  {
   "cell_type": "code",
   "execution_count": 137,
   "metadata": {},
   "outputs": [],
   "source": [
    "#выделим датасет только с качественными признаками\n",
    "df2 = data.drop(['user_id', 'churn','score','age','objects', 'balance', 'products',\n",
    "                  'estimated_salary'], axis = 1)"
   ]
  },
  {
   "cell_type": "code",
   "execution_count": 138,
   "metadata": {},
   "outputs": [
    {
     "data": {
      "image/png": "[encoded data removed]",
      "text/plain": [
       "<Figure size 1440x1440 with 6 Axes>"
      ]
     },
     "metadata": {
      "needs_background": "light"
     },
     "output_type": "display_data"
    }
   ],
   "source": [
    "#построим гистограммы распределения методом histplot() для количественных признаков\n",
    "\n",
    "fig, axs = plt.subplots(nrows=3, ncols=2, figsize=(20, 20))\n",
    "plt.subplots_adjust(hspace=0.3)\n",
    "\n",
    "for col, ax in zip(df1.columns, axs.ravel()):\n",
    "    hp = sns.histplot(data=data, x=col, hue='churn', palette=\"Paired\", ax=ax)\n",
    "    \n",
    "    hp.legend(title='Статус клиента', labels=['Ушедшие', 'Оставшиеся'])\n",
    "    ax.grid()\n",
    "    ax.set_title(f'Распределение по {col}')\n",
    "    ax.set_xlabel('Признак')\n",
    "    ax.set_ylabel('Кол-во клиентов')"
   ]
  },
  {
   "cell_type": "code",
   "execution_count": 139,
   "metadata": {},
   "outputs": [
    {
     "data": {
      "image/png": "[encoded data removed]",
      "text/plain": [
       "<Figure size 1440x1440 with 4 Axes>"
      ]
     },
     "metadata": {
      "needs_background": "light"
     },
     "output_type": "display_data"
    }
   ],
   "source": [
    "#построим гистограммы распределения методом countplot() для качественных признаков\n",
    "\n",
    "fig, axs = plt.subplots(nrows=2, ncols=2, figsize=(20, 20))\n",
    "\n",
    "plt.subplots_adjust(hspace=0.3)\n",
    "\n",
    "for col, ax in zip(df2.columns, axs.ravel()):\n",
    "    cp = sns.countplot(data=data, x=col, hue='churn', palette=\"Paired\", ax=ax)\n",
    "    cp.legend(title='Статус клиента', labels=['Оставшиеся', 'Ушедшие'])\n",
    "    ax.grid()\n",
    "    ax.set_title(f'Распределение по {col}')\n",
    "    ax.set_xlabel('Признак')\n",
    "    ax.set_ylabel('Кол-во клиентов')"
   ]
  },
  {
   "cell_type": "markdown",
   "metadata": {},
   "source": [
    "#### Вывод"
   ]
  },
  {
   "cell_type": "markdown",
   "metadata": {},
   "source": [
    "Применив методы histplot() и countplot() мы построили графики по количественным и неколичественным признакам.\n",
    "\n",
    "Проанализировав графики выше, можно дополнить выводы:\n",
    "\n",
    "* Возраст большинства ушедших клиентов составляет **40+**\n",
    "* Большее кол-во ушедших клиентов имели в банке всего **один продукт**\n",
    "* Больше всего ушедших отмечается по **г. Ростов Великий**\n",
    "* Ушедших **женщин** больше, чем мужчин\n",
    "\n",
    "Можно предположить, что среди ушедших преобладают клиенты более старшего возраста, в связи с тем, что банк возможно ориентирован на более молодую аудиторию. Стоит также задуматься, почему ушедшие клиенты имели всего один продукт, возможно банк предоставляет мало продуктов с бесплатным обслуживанием на пробный период. "
   ]
  },
  {
   "cell_type": "markdown",
   "metadata": {},
   "source": [
    "### Построим матрицу корреляций."
   ]
  },
  {
   "cell_type": "code",
   "execution_count": 140,
   "metadata": {},
   "outputs": [
    {
     "data": {
      "image/png": "[encoded data removed]",
      "text/plain": [
       "<Figure size 864x648 with 2 Axes>"
      ]
     },
     "metadata": {
      "needs_background": "light"
     },
     "output_type": "display_data"
    }
   ],
   "source": [
    "#построим матрицу корреляций\n",
    "\n",
    "plt.figure(figsize=(12,9))\n",
    "sns.heatmap(data = data.corr(), annot=True, cmap='BuPu', square=True)\n",
    "plt.title('Матрица корреляций')\n",
    "plt.xticks(rotation = 45)\n",
    "plt.show()"
   ]
  },
  {
   "cell_type": "markdown",
   "metadata": {},
   "source": [
    "При помощи метода corr() мы построили матрицу корреляций и  методом heatmap() отобразили её в виде тепловой карты. Матрица корреляций указывает, что явной зависимости оттока от других признаков не наблюдается. "
   ]
  },
  {
   "cell_type": "markdown",
   "metadata": {},
   "source": [
    "Исследуем зависимость признаков в разрезе городов. Затем построим матрицу корреляций, расчитанную методом Спирмена."
   ]
  },
  {
   "cell_type": "code",
   "execution_count": 141,
   "metadata": {},
   "outputs": [
    {
     "data": {
      "text/html": [
       "<div>\n",
       "<style scoped>\n",
       "    .dataframe tbody tr th:only-of-type {\n",
       "        vertical-align: middle;\n",
       "    }\n",
       "\n",
       "    .dataframe tbody tr th {\n",
       "        vertical-align: top;\n",
       "    }\n",
       "\n",
       "    .dataframe thead th {\n",
       "        text-align: right;\n",
       "    }\n",
       "</style>\n",
       "<table border=\"1\" class=\"dataframe\">\n",
       "  <thead>\n",
       "    <tr style=\"text-align: right;\">\n",
       "      <th></th>\n",
       "      <th>user_id</th>\n",
       "      <th>score</th>\n",
       "      <th>gender</th>\n",
       "      <th>age</th>\n",
       "      <th>objects</th>\n",
       "      <th>balance</th>\n",
       "      <th>products</th>\n",
       "      <th>credit_card</th>\n",
       "      <th>loyalty</th>\n",
       "      <th>estimated_salary</th>\n",
       "      <th>churn</th>\n",
       "      <th>churn_new</th>\n",
       "      <th>city_Ростов Великий</th>\n",
       "      <th>city_Рыбинск</th>\n",
       "      <th>city_Ярославль</th>\n",
       "    </tr>\n",
       "  </thead>\n",
       "  <tbody>\n",
       "    <tr>\n",
       "      <th>0</th>\n",
       "      <td>15677338</td>\n",
       "      <td>619</td>\n",
       "      <td>Ж</td>\n",
       "      <td>42</td>\n",
       "      <td>2</td>\n",
       "      <td>NaN</td>\n",
       "      <td>1</td>\n",
       "      <td>1</td>\n",
       "      <td>1</td>\n",
       "      <td>101348.88</td>\n",
       "      <td>1</td>\n",
       "      <td>Ушел</td>\n",
       "      <td>0</td>\n",
       "      <td>0</td>\n",
       "      <td>1</td>\n",
       "    </tr>\n",
       "    <tr>\n",
       "      <th>1</th>\n",
       "      <td>15690047</td>\n",
       "      <td>608</td>\n",
       "      <td>Ж</td>\n",
       "      <td>41</td>\n",
       "      <td>1</td>\n",
       "      <td>83807.86</td>\n",
       "      <td>1</td>\n",
       "      <td>0</td>\n",
       "      <td>1</td>\n",
       "      <td>112542.58</td>\n",
       "      <td>0</td>\n",
       "      <td>Остался</td>\n",
       "      <td>0</td>\n",
       "      <td>1</td>\n",
       "      <td>0</td>\n",
       "    </tr>\n",
       "    <tr>\n",
       "      <th>2</th>\n",
       "      <td>15662040</td>\n",
       "      <td>502</td>\n",
       "      <td>Ж</td>\n",
       "      <td>42</td>\n",
       "      <td>8</td>\n",
       "      <td>159660.80</td>\n",
       "      <td>3</td>\n",
       "      <td>1</td>\n",
       "      <td>0</td>\n",
       "      <td>113931.57</td>\n",
       "      <td>1</td>\n",
       "      <td>Ушел</td>\n",
       "      <td>0</td>\n",
       "      <td>0</td>\n",
       "      <td>1</td>\n",
       "    </tr>\n",
       "    <tr>\n",
       "      <th>3</th>\n",
       "      <td>15744090</td>\n",
       "      <td>699</td>\n",
       "      <td>Ж</td>\n",
       "      <td>39</td>\n",
       "      <td>1</td>\n",
       "      <td>NaN</td>\n",
       "      <td>2</td>\n",
       "      <td>0</td>\n",
       "      <td>0</td>\n",
       "      <td>93826.63</td>\n",
       "      <td>0</td>\n",
       "      <td>Остался</td>\n",
       "      <td>0</td>\n",
       "      <td>0</td>\n",
       "      <td>1</td>\n",
       "    </tr>\n",
       "    <tr>\n",
       "      <th>4</th>\n",
       "      <td>15780624</td>\n",
       "      <td>850</td>\n",
       "      <td>Ж</td>\n",
       "      <td>43</td>\n",
       "      <td>2</td>\n",
       "      <td>125510.82</td>\n",
       "      <td>1</td>\n",
       "      <td>1</td>\n",
       "      <td>1</td>\n",
       "      <td>79084.10</td>\n",
       "      <td>0</td>\n",
       "      <td>Остался</td>\n",
       "      <td>0</td>\n",
       "      <td>1</td>\n",
       "      <td>0</td>\n",
       "    </tr>\n",
       "  </tbody>\n",
       "</table>\n",
       "</div>"
      ],
      "text/plain": [
       "    user_id  score gender  age  objects    balance  products  credit_card  \\\n",
       "0  15677338    619      Ж   42        2        NaN         1            1   \n",
       "1  15690047    608      Ж   41        1   83807.86         1            0   \n",
       "2  15662040    502      Ж   42        8  159660.80         3            1   \n",
       "3  15744090    699      Ж   39        1        NaN         2            0   \n",
       "4  15780624    850      Ж   43        2  125510.82         1            1   \n",
       "\n",
       "   loyalty  estimated_salary  churn churn_new  city_Ростов Великий  \\\n",
       "0        1         101348.88      1      Ушел                    0   \n",
       "1        1         112542.58      0   Остался                    0   \n",
       "2        0         113931.57      1      Ушел                    0   \n",
       "3        0          93826.63      0   Остался                    0   \n",
       "4        1          79084.10      0   Остался                    0   \n",
       "\n",
       "   city_Рыбинск  city_Ярославль  \n",
       "0             0               1  \n",
       "1             1               0  \n",
       "2             0               1  \n",
       "3             0               1  \n",
       "4             1               0  "
      ]
     },
     "execution_count": 141,
     "metadata": {},
     "output_type": "execute_result"
    }
   ],
   "source": [
    "# закодируем признак city one-hot кодировкой, чтобы избежать некорректных расчетов \n",
    "\n",
    "data_city = pd.get_dummies(data, columns=['city'])\n",
    "data_city.head()"
   ]
  },
  {
   "cell_type": "code",
   "execution_count": 142,
   "metadata": {},
   "outputs": [
    {
     "data": {
      "image/png": "[encoded data removed]",
      "text/plain": [
       "<Figure size 864x648 with 2 Axes>"
      ]
     },
     "metadata": {
      "needs_background": "light"
     },
     "output_type": "display_data"
    }
   ],
   "source": [
    "#построим матрицу корреляций, применив метод Спирмена\n",
    "\n",
    "plt.figure(figsize=(12,9))\n",
    "sns.heatmap(data = data_city.corr(method='spearman'), annot=True, cmap='BuPu', square=True)\n",
    "plt.title('Матрица корреляций')\n",
    "plt.xticks(rotation = 45)\n",
    "plt.show()"
   ]
  },
  {
   "cell_type": "markdown",
   "metadata": {},
   "source": [
    "Матрица корреляции, расчитанная методом Спирмена также показывает, что явных взаимосвязей нет."
   ]
  },
  {
   "cell_type": "markdown",
   "metadata": {},
   "source": [
    "#### Вывод"
   ]
  },
  {
   "cell_type": "markdown",
   "metadata": {},
   "source": [
    "При помощи метода corr() мы построили матрицу корреляций и  методом heatmap() отобразили её в виде тепловой карты. Матрица корреляций указывает, что явной зависимости оттока от других признаков не наблюдается.  Матрица корреляции, расчитанная методом Спирмена также показывает, что явных взаимосвязей нет."
   ]
  },
  {
   "cell_type": "markdown",
   "metadata": {},
   "source": [
    "### Вывод"
   ]
  },
  {
   "cell_type": "markdown",
   "metadata": {},
   "source": [
    "Изучив средние значения и стандартные отклонения, мы определили:\n",
    "\n",
    "* Средний балл кредитного скоринга составляет **650**\n",
    "* Средний возраст клиентов **38 лет**\n",
    "* Клиенты банка имеют в среднем **5 объектов собственности**\n",
    "* Средний баланс на счетах клиентов **119827**\n",
    "* В среднем клиенты банка имеют один продукт\n",
    "* Больше, чем у **70%** клиентов имеется кредитная карта\n",
    "* **51%** клиентов являются активными\n",
    "* В среднем заработная плата клиента составляет **100090**\n",
    "* Отток клиентов равен **20%**.\n",
    "\n",
    "В разрезе по группам пользователей  оставшимся и ушедшим отметили, что:\n",
    "\n",
    "* У ушедших клиентов **средний бал кредитного скоринга ниже, а возраст выше**\n",
    "* По кол-ву объектов в собственности и количеству продуктов существенной разницы между группами не наблюдается\n",
    "* Средний баланс на счете у ушедших клиентов немного выше \n",
    "* У **70%** в обеих группам имеется кредитная карта\n",
    "* Среди ушедших клиентов  всего **36% являлись активными**\n",
    "* Средняя заработная плата ушедших клиентов немного выше.\n",
    "\n",
    "Проанализировав графики выше, можно дополнить выводы:\n",
    "\n",
    "* Возраст большинства ушедших клиентов составляет **40+**\n",
    "* Большее кол-во ушедших клиентов имели в банке всего **один продукт**\n",
    "* Больше всего ушедших отмечается по **г. Ростов Великий**\n",
    "* Ушедших **женщин** больше, чем мужчин\n",
    "\n",
    "Можно предположить, что среди ушедших преобладают клиенты более старшего возраста, в связи с тем, что банк возможно ориентирован на более молодую аудиторию. Стоит также задуматься, почему ушедшие клиенты имели всего один продукт, возможно банк предлагает мало продуктов с бесплатным обслуживанием на пробный период. \n",
    "\n",
    "Матрица корреляций указывает, что явной зависимости оттока от других признаков не наблюдается."
   ]
  },
  {
   "cell_type": "markdown",
   "metadata": {},
   "source": [
    "## Сегментирование пользователей на основе данных о количестве потребляемых продуктов."
   ]
  },
  {
   "cell_type": "markdown",
   "metadata": {},
   "source": [
    "### Выделим сегменты клиентов на основе кол-ва продуктов. "
   ]
  },
  {
   "cell_type": "code",
   "execution_count": 143,
   "metadata": {},
   "outputs": [
    {
     "data": {
      "text/html": [
       "<div>\n",
       "<style scoped>\n",
       "    .dataframe tbody tr th:only-of-type {\n",
       "        vertical-align: middle;\n",
       "    }\n",
       "\n",
       "    .dataframe tbody tr th {\n",
       "        vertical-align: top;\n",
       "    }\n",
       "\n",
       "    .dataframe thead th {\n",
       "        text-align: right;\n",
       "    }\n",
       "</style>\n",
       "<table border=\"1\" class=\"dataframe\">\n",
       "  <thead>\n",
       "    <tr style=\"text-align: right;\">\n",
       "      <th></th>\n",
       "      <th>user_id</th>\n",
       "    </tr>\n",
       "    <tr>\n",
       "      <th>products</th>\n",
       "      <th></th>\n",
       "    </tr>\n",
       "  </thead>\n",
       "  <tbody>\n",
       "    <tr>\n",
       "      <th>1</th>\n",
       "      <td>5084</td>\n",
       "    </tr>\n",
       "    <tr>\n",
       "      <th>2</th>\n",
       "      <td>4590</td>\n",
       "    </tr>\n",
       "    <tr>\n",
       "      <th>3</th>\n",
       "      <td>266</td>\n",
       "    </tr>\n",
       "    <tr>\n",
       "      <th>4</th>\n",
       "      <td>60</td>\n",
       "    </tr>\n",
       "  </tbody>\n",
       "</table>\n",
       "</div>"
      ],
      "text/plain": [
       "          user_id\n",
       "products         \n",
       "1            5084\n",
       "2            4590\n",
       "3             266\n",
       "4              60"
      ]
     },
     "execution_count": 143,
     "metadata": {},
     "output_type": "execute_result"
    }
   ],
   "source": [
    "#Воспользуемся функцие grouby() и count()\n",
    "\n",
    "data.groupby('products').agg({'user_id':'nunique'})"
   ]
  },
  {
   "cell_type": "markdown",
   "metadata": {},
   "source": [
    "Итак, мы видим, что наши клиенты подразделяются на 4 сегмента, наибольшее кол-во клиентов обладают всего одним продуктом, чуть меньше обладают двумя продуктами, существенно меньшее кол-во клиентов, обладают тремя и четырьмя продуктами. Присвоим нашим сегментам названия: **Сегмент 1** назовем - **Обычные клиенты**, **Сегмент 2 - Активные клиенты**, **Сегмент 3 - Продвинутые клиенты**, **Сегмент 4 - VIP-клиенты**, затем создадим новый столбец с названиями наших сегментов. Для этого напишем функцию segment."
   ]
  },
  {
   "cell_type": "code",
   "execution_count": 144,
   "metadata": {},
   "outputs": [],
   "source": [
    "def segment (product):\n",
    "    \"\"\"Эта функция присваивает название сегмента.\n",
    "    \n",
    "    Функция принимает на вход один параметр и согласно условиям выводит название сегменты.\n",
    "    \"\"\"\n",
    "    if product == 1:\n",
    "        return 'Обычные клиенты'\n",
    "    elif product == 2:\n",
    "        return'Активные клиенты'\n",
    "    elif product == 3:\n",
    "        return 'Продвинутые клиенты'\n",
    "    elif product == 4:\n",
    "        return 'VIP - клиенты'"
   ]
  },
  {
   "cell_type": "code",
   "execution_count": 145,
   "metadata": {},
   "outputs": [],
   "source": [
    "#при помощи метода apply() передадим функции столбец products\n",
    "\n",
    "data['segments'] = data['products'].apply(segment)"
   ]
  },
  {
   "cell_type": "code",
   "execution_count": 146,
   "metadata": {
    "scrolled": true
   },
   "outputs": [
    {
     "data": {
      "text/html": [
       "<div>\n",
       "<style scoped>\n",
       "    .dataframe tbody tr th:only-of-type {\n",
       "        vertical-align: middle;\n",
       "    }\n",
       "\n",
       "    .dataframe tbody tr th {\n",
       "        vertical-align: top;\n",
       "    }\n",
       "\n",
       "    .dataframe thead th {\n",
       "        text-align: right;\n",
       "    }\n",
       "</style>\n",
       "<table border=\"1\" class=\"dataframe\">\n",
       "  <thead>\n",
       "    <tr style=\"text-align: right;\">\n",
       "      <th></th>\n",
       "      <th>segment</th>\n",
       "      <th>count_clients</th>\n",
       "    </tr>\n",
       "  </thead>\n",
       "  <tbody>\n",
       "    <tr>\n",
       "      <th>0</th>\n",
       "      <td>Обычные клиенты</td>\n",
       "      <td>5084</td>\n",
       "    </tr>\n",
       "    <tr>\n",
       "      <th>1</th>\n",
       "      <td>Активные клиенты</td>\n",
       "      <td>4590</td>\n",
       "    </tr>\n",
       "    <tr>\n",
       "      <th>2</th>\n",
       "      <td>Продвинутые клиенты</td>\n",
       "      <td>266</td>\n",
       "    </tr>\n",
       "    <tr>\n",
       "      <th>3</th>\n",
       "      <td>VIP - клиенты</td>\n",
       "      <td>60</td>\n",
       "    </tr>\n",
       "  </tbody>\n",
       "</table>\n",
       "</div>"
      ],
      "text/plain": [
       "               segment  count_clients\n",
       "0      Обычные клиенты           5084\n",
       "1     Активные клиенты           4590\n",
       "2  Продвинутые клиенты            266\n",
       "3        VIP - клиенты             60"
      ]
     },
     "execution_count": 146,
     "metadata": {},
     "output_type": "execute_result"
    }
   ],
   "source": [
    "#проверим, что все получилось\n",
    "\n",
    "seg = data.groupby('segments').agg({'user_id':'nunique'})\n",
    "seg = seg.sort_values(by='user_id', ascending=False).reset_index()\n",
    "seg.columns = ['segment','count_clients']\n",
    "seg"
   ]
  },
  {
   "cell_type": "code",
   "execution_count": 147,
   "metadata": {},
   "outputs": [
    {
     "data": {
      "application/vnd.plotly.v1+json": {
       "config": {
        "plotlyServerURL": "https://plot.ly"
       },
       "data": [
        {
         "labels": [
          "Обычные клиенты",
          "Активные клиенты",
          "Продвинутые клиенты",
          "VIP - клиенты"
         ],
         "type": "pie",
         "values": [
          5084,
          4590,
          266,
          60
         ]
        }
       ],
       "layout": {
        "height": 500,
        "template": {
         "data": {
          "bar": [
           {
            "error_x": {
             "color": "#2a3f5f"
            },
            "error_y": {
             "color": "#2a3f5f"
            },
            "marker": {
             "line": {
              "color": "#E5ECF6",
              "width": 0.5
             },
             "pattern": {
              "fillmode": "overlay",
              "size": 10,
              "solidity": 0.2
             }
            },
            "type": "bar"
           }
          ],
          "barpolar": [
           {
            "marker": {
             "line": {
              "color": "#E5ECF6",
              "width": 0.5
             },
             "pattern": {
              "fillmode": "overlay",
              "size": 10,
              "solidity": 0.2
             }
            },
            "type": "barpolar"
           }
          ],
          "carpet": [
           {
            "aaxis": {
             "endlinecolor": "#2a3f5f",
             "gridcolor": "white",
             "linecolor": "white",
             "minorgridcolor": "white",
             "startlinecolor": "#2a3f5f"
            },
            "baxis": {
             "endlinecolor": "#2a3f5f",
             "gridcolor": "white",
             "linecolor": "white",
             "minorgridcolor": "white",
             "startlinecolor": "#2a3f5f"
            },
            "type": "carpet"
           }
          ],
          "choropleth": [
           {
            "colorbar": {
             "outlinewidth": 0,
             "ticks": ""
            },
            "type": "choropleth"
           }
          ],
          "contour": [
           {
            "colorbar": {
             "outlinewidth": 0,
             "ticks": ""
            },
            "colorscale": [
             [
              0,
              "#0d0887"
             ],
             [
              0.1111111111111111,
              "#46039f"
             ],
             [
              0.2222222222222222,
              "#7201a8"
             ],
             [
              0.3333333333333333,
              "#9c179e"
             ],
             [
              0.4444444444444444,
              "#bd3786"
             ],
             [
              0.5555555555555556,
              "#d8576b"
             ],
             [
              0.6666666666666666,
              "#ed7953"
             ],
             [
              0.7777777777777778,
              "#fb9f3a"
             ],
             [
              0.8888888888888888,
              "#fdca26"
             ],
             [
              1,
              "#f0f921"
             ]
            ],
            "type": "contour"
           }
          ],
          "contourcarpet": [
           {
            "colorbar": {
             "outlinewidth": 0,
             "ticks": ""
            },
            "type": "contourcarpet"
           }
          ],
          "heatmap": [
           {
            "colorbar": {
             "outlinewidth": 0,
             "ticks": ""
            },
            "colorscale": [
             [
              0,
              "#0d0887"
             ],
             [
              0.1111111111111111,
              "#46039f"
             ],
             [
              0.2222222222222222,
              "#7201a8"
             ],
             [
              0.3333333333333333,
              "#9c179e"
             ],
             [
              0.4444444444444444,
              "#bd3786"
             ],
             [
              0.5555555555555556,
              "#d8576b"
             ],
             [
              0.6666666666666666,
              "#ed7953"
             ],
             [
              0.7777777777777778,
              "#fb9f3a"
             ],
             [
              0.8888888888888888,
              "#fdca26"
             ],
             [
              1,
              "#f0f921"
             ]
            ],
            "type": "heatmap"
           }
          ],
          "heatmapgl": [
           {
            "colorbar": {
             "outlinewidth": 0,
             "ticks": ""
            },
            "colorscale": [
             [
              0,
              "#0d0887"
             ],
             [
              0.1111111111111111,
              "#46039f"
             ],
             [
              0.2222222222222222,
              "#7201a8"
             ],
             [
              0.3333333333333333,
              "#9c179e"
             ],
             [
              0.4444444444444444,
              "#bd3786"
             ],
             [
              0.5555555555555556,
              "#d8576b"
             ],
             [
              0.6666666666666666,
              "#ed7953"
             ],
             [
              0.7777777777777778,
              "#fb9f3a"
             ],
             [
              0.8888888888888888,
              "#fdca26"
             ],
             [
              1,
              "#f0f921"
             ]
            ],
            "type": "heatmapgl"
           }
          ],
          "histogram": [
           {
            "marker": {
             "pattern": {
              "fillmode": "overlay",
              "size": 10,
              "solidity": 0.2
             }
            },
            "type": "histogram"
           }
          ],
          "histogram2d": [
           {
            "colorbar": {
             "outlinewidth": 0,
             "ticks": ""
            },
            "colorscale": [
             [
              0,
              "#0d0887"
             ],
             [
              0.1111111111111111,
              "#46039f"
             ],
             [
              0.2222222222222222,
              "#7201a8"
             ],
             [
              0.3333333333333333,
              "#9c179e"
             ],
             [
              0.4444444444444444,
              "#bd3786"
             ],
             [
              0.5555555555555556,
              "#d8576b"
             ],
             [
              0.6666666666666666,
              "#ed7953"
             ],
             [
              0.7777777777777778,
              "#fb9f3a"
             ],
             [
              0.8888888888888888,
              "#fdca26"
             ],
             [
              1,
              "#f0f921"
             ]
            ],
            "type": "histogram2d"
           }
          ],
          "histogram2dcontour": [
           {
            "colorbar": {
             "outlinewidth": 0,
             "ticks": ""
            },
            "colorscale": [
             [
              0,
              "#0d0887"
             ],
             [
              0.1111111111111111,
              "#46039f"
             ],
             [
              0.2222222222222222,
              "#7201a8"
             ],
             [
              0.3333333333333333,
              "#9c179e"
             ],
             [
              0.4444444444444444,
              "#bd3786"
             ],
             [
              0.5555555555555556,
              "#d8576b"
             ],
             [
              0.6666666666666666,
              "#ed7953"
             ],
             [
              0.7777777777777778,
              "#fb9f3a"
             ],
             [
              0.8888888888888888,
              "#fdca26"
             ],
             [
              1,
              "#f0f921"
             ]
            ],
            "type": "histogram2dcontour"
           }
          ],
          "mesh3d": [
           {
            "colorbar": {
             "outlinewidth": 0,
             "ticks": ""
            },
            "type": "mesh3d"
           }
          ],
          "parcoords": [
           {
            "line": {
             "colorbar": {
              "outlinewidth": 0,
              "ticks": ""
             }
            },
            "type": "parcoords"
           }
          ],
          "pie": [
           {
            "automargin": true,
            "type": "pie"
           }
          ],
          "scatter": [
           {
            "marker": {
             "colorbar": {
              "outlinewidth": 0,
              "ticks": ""
             }
            },
            "type": "scatter"
           }
          ],
          "scatter3d": [
           {
            "line": {
             "colorbar": {
              "outlinewidth": 0,
              "ticks": ""
             }
            },
            "marker": {
             "colorbar": {
              "outlinewidth": 0,
              "ticks": ""
             }
            },
            "type": "scatter3d"
           }
          ],
          "scattercarpet": [
           {
            "marker": {
             "colorbar": {
              "outlinewidth": 0,
              "ticks": ""
             }
            },
            "type": "scattercarpet"
           }
          ],
          "scattergeo": [
           {
            "marker": {
             "colorbar": {
              "outlinewidth": 0,
              "ticks": ""
             }
            },
            "type": "scattergeo"
           }
          ],
          "scattergl": [
           {
            "marker": {
             "colorbar": {
              "outlinewidth": 0,
              "ticks": ""
             }
            },
            "type": "scattergl"
           }
          ],
          "scattermapbox": [
           {
            "marker": {
             "colorbar": {
              "outlinewidth": 0,
              "ticks": ""
             }
            },
            "type": "scattermapbox"
           }
          ],
          "scatterpolar": [
           {
            "marker": {
             "colorbar": {
              "outlinewidth": 0,
              "ticks": ""
             }
            },
            "type": "scatterpolar"
           }
          ],
          "scatterpolargl": [
           {
            "marker": {
             "colorbar": {
              "outlinewidth": 0,
              "ticks": ""
             }
            },
            "type": "scatterpolargl"
           }
          ],
          "scatterternary": [
           {
            "marker": {
             "colorbar": {
              "outlinewidth": 0,
              "ticks": ""
             }
            },
            "type": "scatterternary"
           }
          ],
          "surface": [
           {
            "colorbar": {
             "outlinewidth": 0,
             "ticks": ""
            },
            "colorscale": [
             [
              0,
              "#0d0887"
             ],
             [
              0.1111111111111111,
              "#46039f"
             ],
             [
              0.2222222222222222,
              "#7201a8"
             ],
             [
              0.3333333333333333,
              "#9c179e"
             ],
             [
              0.4444444444444444,
              "#bd3786"
             ],
             [
              0.5555555555555556,
              "#d8576b"
             ],
             [
              0.6666666666666666,
              "#ed7953"
             ],
             [
              0.7777777777777778,
              "#fb9f3a"
             ],
             [
              0.8888888888888888,
              "#fdca26"
             ],
             [
              1,
              "#f0f921"
             ]
            ],
            "type": "surface"
           }
          ],
          "table": [
           {
            "cells": {
             "fill": {
              "color": "#EBF0F8"
             },
             "line": {
              "color": "white"
             }
            },
            "header": {
             "fill": {
              "color": "#C8D4E3"
             },
             "line": {
              "color": "white"
             }
            },
            "type": "table"
           }
          ]
         },
         "layout": {
          "annotationdefaults": {
           "arrowcolor": "#2a3f5f",
           "arrowhead": 0,
           "arrowwidth": 1
          },
          "autotypenumbers": "strict",
          "coloraxis": {
           "colorbar": {
            "outlinewidth": 0,
            "ticks": ""
           }
          },
          "colorscale": {
           "diverging": [
            [
             0,
             "#8e0152"
            ],
            [
             0.1,
             "#c51b7d"
            ],
            [
             0.2,
             "#de77ae"
            ],
            [
             0.3,
             "#f1b6da"
            ],
            [
             0.4,
             "#fde0ef"
            ],
            [
             0.5,
             "#f7f7f7"
            ],
            [
             0.6,
             "#e6f5d0"
            ],
            [
             0.7,
             "#b8e186"
            ],
            [
             0.8,
             "#7fbc41"
            ],
            [
             0.9,
             "#4d9221"
            ],
            [
             1,
             "#276419"
            ]
           ],
           "sequential": [
            [
             0,
             "#0d0887"
            ],
            [
             0.1111111111111111,
             "#46039f"
            ],
            [
             0.2222222222222222,
             "#7201a8"
            ],
            [
             0.3333333333333333,
             "#9c179e"
            ],
            [
             0.4444444444444444,
             "#bd3786"
            ],
            [
             0.5555555555555556,
             "#d8576b"
            ],
            [
             0.6666666666666666,
             "#ed7953"
            ],
            [
             0.7777777777777778,
             "#fb9f3a"
            ],
            [
             0.8888888888888888,
             "#fdca26"
            ],
            [
             1,
             "#f0f921"
            ]
           ],
           "sequentialminus": [
            [
             0,
             "#0d0887"
            ],
            [
             0.1111111111111111,
             "#46039f"
            ],
            [
             0.2222222222222222,
             "#7201a8"
            ],
            [
             0.3333333333333333,
             "#9c179e"
            ],
            [
             0.4444444444444444,
             "#bd3786"
            ],
            [
             0.5555555555555556,
             "#d8576b"
            ],
            [
             0.6666666666666666,
             "#ed7953"
            ],
            [
             0.7777777777777778,
             "#fb9f3a"
            ],
            [
             0.8888888888888888,
             "#fdca26"
            ],
            [
             1,
             "#f0f921"
            ]
           ]
          },
          "colorway": [
           "#636efa",
           "#EF553B",
           "#00cc96",
           "#ab63fa",
           "#FFA15A",
           "#19d3f3",
           "#FF6692",
           "#B6E880",
           "#FF97FF",
           "#FECB52"
          ],
          "font": {
           "color": "#2a3f5f"
          },
          "geo": {
           "bgcolor": "white",
           "lakecolor": "white",
           "landcolor": "#E5ECF6",
           "showlakes": true,
           "showland": true,
           "subunitcolor": "white"
          },
          "hoverlabel": {
           "align": "left"
          },
          "hovermode": "closest",
          "mapbox": {
           "style": "light"
          },
          "paper_bgcolor": "white",
          "plot_bgcolor": "#E5ECF6",
          "polar": {
           "angularaxis": {
            "gridcolor": "white",
            "linecolor": "white",
            "ticks": ""
           },
           "bgcolor": "#E5ECF6",
           "radialaxis": {
            "gridcolor": "white",
            "linecolor": "white",
            "ticks": ""
           }
          },
          "scene": {
           "xaxis": {
            "backgroundcolor": "#E5ECF6",
            "gridcolor": "white",
            "gridwidth": 2,
            "linecolor": "white",
            "showbackground": true,
            "ticks": "",
            "zerolinecolor": "white"
           },
           "yaxis": {
            "backgroundcolor": "#E5ECF6",
            "gridcolor": "white",
            "gridwidth": 2,
            "linecolor": "white",
            "showbackground": true,
            "ticks": "",
            "zerolinecolor": "white"
           },
           "zaxis": {
            "backgroundcolor": "#E5ECF6",
            "gridcolor": "white",
            "gridwidth": 2,
            "linecolor": "white",
            "showbackground": true,
            "ticks": "",
            "zerolinecolor": "white"
           }
          },
          "shapedefaults": {
           "line": {
            "color": "#2a3f5f"
           }
          },
          "ternary": {
           "aaxis": {
            "gridcolor": "white",
            "linecolor": "white",
            "ticks": ""
           },
           "baxis": {
            "gridcolor": "white",
            "linecolor": "white",
            "ticks": ""
           },
           "bgcolor": "#E5ECF6",
           "caxis": {
            "gridcolor": "white",
            "linecolor": "white",
            "ticks": ""
           }
          },
          "title": {
           "x": 0.05
          },
          "xaxis": {
           "automargin": true,
           "gridcolor": "white",
           "linecolor": "white",
           "ticks": "",
           "title": {
            "standoff": 15
           },
           "zerolinecolor": "white",
           "zerolinewidth": 2
          },
          "yaxis": {
           "automargin": true,
           "gridcolor": "white",
           "linecolor": "white",
           "ticks": "",
           "title": {
            "standoff": 15
           },
           "zerolinecolor": "white",
           "zerolinewidth": 2
          }
         }
        },
        "title": {
         "text": "Соотношение клиентов по сегментам"
        },
        "width": 500
       }
      },
      "text/html": [
       "<div>                            <div id=\"1eceb995-c0c6-498f-921d-8505c78ed997\" class=\"plotly-graph-div\" style=\"height:500px; width:500px;\"></div>            <script type=\"text/javascript\">                require([\"plotly\"], function(Plotly) {                    window.PLOTLYENV=window.PLOTLYENV || {};                                    if (document.getElementById(\"1eceb995-c0c6-498f-921d-8505c78ed997\")) {                    Plotly.newPlot(                        \"1eceb995-c0c6-498f-921d-8505c78ed997\",                        [{\"labels\":[\"\\u041e\\u0431\\u044b\\u0447\\u043d\\u044b\\u0435 \\u043a\\u043b\\u0438\\u0435\\u043d\\u0442\\u044b\",\"\\u0410\\u043a\\u0442\\u0438\\u0432\\u043d\\u044b\\u0435 \\u043a\\u043b\\u0438\\u0435\\u043d\\u0442\\u044b\",\"\\u041f\\u0440\\u043e\\u0434\\u0432\\u0438\\u043d\\u0443\\u0442\\u044b\\u0435 \\u043a\\u043b\\u0438\\u0435\\u043d\\u0442\\u044b\",\"VIP - \\u043a\\u043b\\u0438\\u0435\\u043d\\u0442\\u044b\"],\"values\":[5084,4590,266,60],\"type\":\"pie\"}],                        {\"template\":{\"data\":{\"bar\":[{\"error_x\":{\"color\":\"#2a3f5f\"},\"error_y\":{\"color\":\"#2a3f5f\"},\"marker\":{\"line\":{\"color\":\"#E5ECF6\",\"width\":0.5},\"pattern\":{\"fillmode\":\"overlay\",\"size\":10,\"solidity\":0.2}},\"type\":\"bar\"}],\"barpolar\":[{\"marker\":{\"line\":{\"color\":\"#E5ECF6\",\"width\":0.5},\"pattern\":{\"fillmode\":\"overlay\",\"size\":10,\"solidity\":0.2}},\"type\":\"barpolar\"}],\"carpet\":[{\"aaxis\":{\"endlinecolor\":\"#2a3f5f\",\"gridcolor\":\"white\",\"linecolor\":\"white\",\"minorgridcolor\":\"white\",\"startlinecolor\":\"#2a3f5f\"},\"baxis\":{\"endlinecolor\":\"#2a3f5f\",\"gridcolor\":\"white\",\"linecolor\":\"white\",\"minorgridcolor\":\"white\",\"startlinecolor\":\"#2a3f5f\"},\"type\":\"carpet\"}],\"choropleth\":[{\"colorbar\":{\"outlinewidth\":0,\"ticks\":\"\"},\"type\":\"choropleth\"}],\"contour\":[{\"colorbar\":{\"outlinewidth\":0,\"ticks\":\"\"},\"colorscale\":[[0.0,\"#0d0887\"],[0.1111111111111111,\"#46039f\"],[0.2222222222222222,\"#7201a8\"],[0.3333333333333333,\"#9c179e\"],[0.4444444444444444,\"#bd3786\"],[0.5555555555555556,\"#d8576b\"],[0.6666666666666666,\"#ed7953\"],[0.7777777777777778,\"#fb9f3a\"],[0.8888888888888888,\"#fdca26\"],[1.0,\"#f0f921\"]],\"type\":\"contour\"}],\"contourcarpet\":[{\"colorbar\":{\"outlinewidth\":0,\"ticks\":\"\"},\"type\":\"contourcarpet\"}],\"heatmap\":[{\"colorbar\":{\"outlinewidth\":0,\"ticks\":\"\"},\"colorscale\":[[0.0,\"#0d0887\"],[0.1111111111111111,\"#46039f\"],[0.2222222222222222,\"#7201a8\"],[0.3333333333333333,\"#9c179e\"],[0.4444444444444444,\"#bd3786\"],[0.5555555555555556,\"#d8576b\"],[0.6666666666666666,\"#ed7953\"],[0.7777777777777778,\"#fb9f3a\"],[0.8888888888888888,\"#fdca26\"],[1.0,\"#f0f921\"]],\"type\":\"heatmap\"}],\"heatmapgl\":[{\"colorbar\":{\"outlinewidth\":0,\"ticks\":\"\"},\"colorscale\":[[0.0,\"#0d0887\"],[0.1111111111111111,\"#46039f\"],[0.2222222222222222,\"#7201a8\"],[0.3333333333333333,\"#9c179e\"],[0.4444444444444444,\"#bd3786\"],[0.5555555555555556,\"#d8576b\"],[0.6666666666666666,\"#ed7953\"],[0.7777777777777778,\"#fb9f3a\"],[0.8888888888888888,\"#fdca26\"],[1.0,\"#f0f921\"]],\"type\":\"heatmapgl\"}],\"histogram\":[{\"marker\":{\"pattern\":{\"fillmode\":\"overlay\",\"size\":10,\"solidity\":0.2}},\"type\":\"histogram\"}],\"histogram2d\":[{\"colorbar\":{\"outlinewidth\":0,\"ticks\":\"\"},\"colorscale\":[[0.0,\"#0d0887\"],[0.1111111111111111,\"#46039f\"],[0.2222222222222222,\"#7201a8\"],[0.3333333333333333,\"#9c179e\"],[0.4444444444444444,\"#bd3786\"],[0.5555555555555556,\"#d8576b\"],[0.6666666666666666,\"#ed7953\"],[0.7777777777777778,\"#fb9f3a\"],[0.8888888888888888,\"#fdca26\"],[1.0,\"#f0f921\"]],\"type\":\"histogram2d\"}],\"histogram2dcontour\":[{\"colorbar\":{\"outlinewidth\":0,\"ticks\":\"\"},\"colorscale\":[[0.0,\"#0d0887\"],[0.1111111111111111,\"#46039f\"],[0.2222222222222222,\"#7201a8\"],[0.3333333333333333,\"#9c179e\"],[0.4444444444444444,\"#bd3786\"],[0.5555555555555556,\"#d8576b\"],[0.6666666666666666,\"#ed7953\"],[0.7777777777777778,\"#fb9f3a\"],[0.8888888888888888,\"#fdca26\"],[1.0,\"#f0f921\"]],\"type\":\"histogram2dcontour\"}],\"mesh3d\":[{\"colorbar\":{\"outlinewidth\":0,\"ticks\":\"\"},\"type\":\"mesh3d\"}],\"parcoords\":[{\"line\":{\"colorbar\":{\"outlinewidth\":0,\"ticks\":\"\"}},\"type\":\"parcoords\"}],\"pie\":[{\"automargin\":true,\"type\":\"pie\"}],\"scatter\":[{\"marker\":{\"colorbar\":{\"outlinewidth\":0,\"ticks\":\"\"}},\"type\":\"scatter\"}],\"scatter3d\":[{\"line\":{\"colorbar\":{\"outlinewidth\":0,\"ticks\":\"\"}},\"marker\":{\"colorbar\":{\"outlinewidth\":0,\"ticks\":\"\"}},\"type\":\"scatter3d\"}],\"scattercarpet\":[{\"marker\":{\"colorbar\":{\"outlinewidth\":0,\"ticks\":\"\"}},\"type\":\"scattercarpet\"}],\"scattergeo\":[{\"marker\":{\"colorbar\":{\"outlinewidth\":0,\"ticks\":\"\"}},\"type\":\"scattergeo\"}],\"scattergl\":[{\"marker\":{\"colorbar\":{\"outlinewidth\":0,\"ticks\":\"\"}},\"type\":\"scattergl\"}],\"scattermapbox\":[{\"marker\":{\"colorbar\":{\"outlinewidth\":0,\"ticks\":\"\"}},\"type\":\"scattermapbox\"}],\"scatterpolar\":[{\"marker\":{\"colorbar\":{\"outlinewidth\":0,\"ticks\":\"\"}},\"type\":\"scatterpolar\"}],\"scatterpolargl\":[{\"marker\":{\"colorbar\":{\"outlinewidth\":0,\"ticks\":\"\"}},\"type\":\"scatterpolargl\"}],\"scatterternary\":[{\"marker\":{\"colorbar\":{\"outlinewidth\":0,\"ticks\":\"\"}},\"type\":\"scatterternary\"}],\"surface\":[{\"colorbar\":{\"outlinewidth\":0,\"ticks\":\"\"},\"colorscale\":[[0.0,\"#0d0887\"],[0.1111111111111111,\"#46039f\"],[0.2222222222222222,\"#7201a8\"],[0.3333333333333333,\"#9c179e\"],[0.4444444444444444,\"#bd3786\"],[0.5555555555555556,\"#d8576b\"],[0.6666666666666666,\"#ed7953\"],[0.7777777777777778,\"#fb9f3a\"],[0.8888888888888888,\"#fdca26\"],[1.0,\"#f0f921\"]],\"type\":\"surface\"}],\"table\":[{\"cells\":{\"fill\":{\"color\":\"#EBF0F8\"},\"line\":{\"color\":\"white\"}},\"header\":{\"fill\":{\"color\":\"#C8D4E3\"},\"line\":{\"color\":\"white\"}},\"type\":\"table\"}]},\"layout\":{\"annotationdefaults\":{\"arrowcolor\":\"#2a3f5f\",\"arrowhead\":0,\"arrowwidth\":1},\"autotypenumbers\":\"strict\",\"coloraxis\":{\"colorbar\":{\"outlinewidth\":0,\"ticks\":\"\"}},\"colorscale\":{\"diverging\":[[0,\"#8e0152\"],[0.1,\"#c51b7d\"],[0.2,\"#de77ae\"],[0.3,\"#f1b6da\"],[0.4,\"#fde0ef\"],[0.5,\"#f7f7f7\"],[0.6,\"#e6f5d0\"],[0.7,\"#b8e186\"],[0.8,\"#7fbc41\"],[0.9,\"#4d9221\"],[1,\"#276419\"]],\"sequential\":[[0.0,\"#0d0887\"],[0.1111111111111111,\"#46039f\"],[0.2222222222222222,\"#7201a8\"],[0.3333333333333333,\"#9c179e\"],[0.4444444444444444,\"#bd3786\"],[0.5555555555555556,\"#d8576b\"],[0.6666666666666666,\"#ed7953\"],[0.7777777777777778,\"#fb9f3a\"],[0.8888888888888888,\"#fdca26\"],[1.0,\"#f0f921\"]],\"sequentialminus\":[[0.0,\"#0d0887\"],[0.1111111111111111,\"#46039f\"],[0.2222222222222222,\"#7201a8\"],[0.3333333333333333,\"#9c179e\"],[0.4444444444444444,\"#bd3786\"],[0.5555555555555556,\"#d8576b\"],[0.6666666666666666,\"#ed7953\"],[0.7777777777777778,\"#fb9f3a\"],[0.8888888888888888,\"#fdca26\"],[1.0,\"#f0f921\"]]},\"colorway\":[\"#636efa\",\"#EF553B\",\"#00cc96\",\"#ab63fa\",\"#FFA15A\",\"#19d3f3\",\"#FF6692\",\"#B6E880\",\"#FF97FF\",\"#FECB52\"],\"font\":{\"color\":\"#2a3f5f\"},\"geo\":{\"bgcolor\":\"white\",\"lakecolor\":\"white\",\"landcolor\":\"#E5ECF6\",\"showlakes\":true,\"showland\":true,\"subunitcolor\":\"white\"},\"hoverlabel\":{\"align\":\"left\"},\"hovermode\":\"closest\",\"mapbox\":{\"style\":\"light\"},\"paper_bgcolor\":\"white\",\"plot_bgcolor\":\"#E5ECF6\",\"polar\":{\"angularaxis\":{\"gridcolor\":\"white\",\"linecolor\":\"white\",\"ticks\":\"\"},\"bgcolor\":\"#E5ECF6\",\"radialaxis\":{\"gridcolor\":\"white\",\"linecolor\":\"white\",\"ticks\":\"\"}},\"scene\":{\"xaxis\":{\"backgroundcolor\":\"#E5ECF6\",\"gridcolor\":\"white\",\"gridwidth\":2,\"linecolor\":\"white\",\"showbackground\":true,\"ticks\":\"\",\"zerolinecolor\":\"white\"},\"yaxis\":{\"backgroundcolor\":\"#E5ECF6\",\"gridcolor\":\"white\",\"gridwidth\":2,\"linecolor\":\"white\",\"showbackground\":true,\"ticks\":\"\",\"zerolinecolor\":\"white\"},\"zaxis\":{\"backgroundcolor\":\"#E5ECF6\",\"gridcolor\":\"white\",\"gridwidth\":2,\"linecolor\":\"white\",\"showbackground\":true,\"ticks\":\"\",\"zerolinecolor\":\"white\"}},\"shapedefaults\":{\"line\":{\"color\":\"#2a3f5f\"}},\"ternary\":{\"aaxis\":{\"gridcolor\":\"white\",\"linecolor\":\"white\",\"ticks\":\"\"},\"baxis\":{\"gridcolor\":\"white\",\"linecolor\":\"white\",\"ticks\":\"\"},\"bgcolor\":\"#E5ECF6\",\"caxis\":{\"gridcolor\":\"white\",\"linecolor\":\"white\",\"ticks\":\"\"}},\"title\":{\"x\":0.05},\"xaxis\":{\"automargin\":true,\"gridcolor\":\"white\",\"linecolor\":\"white\",\"ticks\":\"\",\"title\":{\"standoff\":15},\"zerolinecolor\":\"white\",\"zerolinewidth\":2},\"yaxis\":{\"automargin\":true,\"gridcolor\":\"white\",\"linecolor\":\"white\",\"ticks\":\"\",\"title\":{\"standoff\":15},\"zerolinecolor\":\"white\",\"zerolinewidth\":2}}},\"title\":{\"text\":\"\\u0421\\u043e\\u043e\\u0442\\u043d\\u043e\\u0448\\u0435\\u043d\\u0438\\u0435 \\u043a\\u043b\\u0438\\u0435\\u043d\\u0442\\u043e\\u0432 \\u043f\\u043e \\u0441\\u0435\\u0433\\u043c\\u0435\\u043d\\u0442\\u0430\\u043c\"},\"height\":500,\"width\":500},                        {\"responsive\": true}                    ).then(function(){\n",
       "                            \n",
       "var gd = document.getElementById('1eceb995-c0c6-498f-921d-8505c78ed997');\n",
       "var x = new MutationObserver(function (mutations, observer) {{\n",
       "        var display = window.getComputedStyle(gd).display;\n",
       "        if (!display || display === 'none') {{\n",
       "            console.log([gd, 'removed!']);\n",
       "            Plotly.purge(gd);\n",
       "            observer.disconnect();\n",
       "        }}\n",
       "}});\n",
       "\n",
       "// Listen for the removal of the full notebook cells\n",
       "var notebookContainer = gd.closest('#notebook-container');\n",
       "if (notebookContainer) {{\n",
       "    x.observe(notebookContainer, {childList: true});\n",
       "}}\n",
       "\n",
       "// Listen for the clearing of the current output cell\n",
       "var outputEl = gd.closest('.output');\n",
       "if (outputEl) {{\n",
       "    x.observe(outputEl, {childList: true});\n",
       "}}\n",
       "\n",
       "                        })                };                });            </script>        </div>"
      ]
     },
     "metadata": {},
     "output_type": "display_data"
    }
   ],
   "source": [
    "#построим круговую диаграмму\n",
    "\n",
    "fig = go.Figure()\n",
    "\n",
    "fig.add_trace(go.Pie(values=seg.count_clients, labels=seg.segment))\n",
    "\n",
    "fig.update_layout(title='Соотношение клиентов по сегментам',\n",
    "                 height=500,\n",
    "                 width=500\n",
    "                 )\n",
    "fig.show()"
   ]
  },
  {
   "cell_type": "markdown",
   "metadata": {},
   "source": [
    "#### Вывод"
   ]
  },
  {
   "cell_type": "markdown",
   "metadata": {},
   "source": [
    "При помощи функции segment мы ведилили 4 сегмента клиентов: **Обычные клиенты, Активные клиенты, Продвинутые клиенты и VIP-клиенты.** Основная часть клиентов приходится на сегмент \"Обычные клиенты\" - 51%, 46% приходится на сегмент \"Активные клиенты\", 3% приходится на сегмент \"Продвинутые клиенты\", менее 1% представляет сегмент \"VIP-клиенты\"."
   ]
  },
  {
   "cell_type": "markdown",
   "metadata": {},
   "source": [
    "### Посмотрим на средние значения признаков для сегментов и опишем сегменты"
   ]
  },
  {
   "cell_type": "code",
   "execution_count": 148,
   "metadata": {},
   "outputs": [
    {
     "data": {
      "text/html": [
       "<style  type=\"text/css\" >\n",
       "#T_dc0d7_row0_col1,#T_dc0d7_row0_col2,#T_dc0d7_row0_col3,#T_dc0d7_row0_col4,#T_dc0d7_row0_col7,#T_dc0d7_row0_col8,#T_dc0d7_row1_col6,#T_dc0d7_row3_col5{\n",
       "            background-color:  yellowgreen;\n",
       "        }#T_dc0d7_row0_col5,#T_dc0d7_row1_col2,#T_dc0d7_row1_col8,#T_dc0d7_row2_col3,#T_dc0d7_row2_col7,#T_dc0d7_row3_col1,#T_dc0d7_row3_col4,#T_dc0d7_row3_col6{\n",
       "            background-color:  coral;\n",
       "        }</style><table id=\"T_dc0d7_\" ><thead>    <tr>        <th class=\"blank level0\" ></th>        <th class=\"col_heading level0 col0\" >segments</th>        <th class=\"col_heading level0 col1\" >score</th>        <th class=\"col_heading level0 col2\" >age</th>        <th class=\"col_heading level0 col3\" >objects</th>        <th class=\"col_heading level0 col4\" >balance</th>        <th class=\"col_heading level0 col5\" >credit_card</th>        <th class=\"col_heading level0 col6\" >loyalty</th>        <th class=\"col_heading level0 col7\" >estimated_salary</th>        <th class=\"col_heading level0 col8\" >churn</th>    </tr></thead><tbody>\n",
       "                <tr>\n",
       "                        <th id=\"T_dc0d7_level0_row0\" class=\"row_heading level0 row0\" >0</th>\n",
       "                        <td id=\"T_dc0d7_row0_col0\" class=\"data row0 col0\" >VIP - клиенты</td>\n",
       "                        <td id=\"T_dc0d7_row0_col1\" class=\"data row0 col1\" >653.583</td>\n",
       "                        <td id=\"T_dc0d7_row0_col2\" class=\"data row0 col2\" >45.683</td>\n",
       "                        <td id=\"T_dc0d7_row0_col3\" class=\"data row0 col3\" >5.300</td>\n",
       "                        <td id=\"T_dc0d7_row0_col4\" class=\"data row0 col4\" >122260.611</td>\n",
       "                        <td id=\"T_dc0d7_row0_col5\" class=\"data row0 col5\" >0.683</td>\n",
       "                        <td id=\"T_dc0d7_row0_col6\" class=\"data row0 col6\" >0.483</td>\n",
       "                        <td id=\"T_dc0d7_row0_col7\" class=\"data row0 col7\" >104763.723</td>\n",
       "                        <td id=\"T_dc0d7_row0_col8\" class=\"data row0 col8\" >1.000</td>\n",
       "            </tr>\n",
       "            <tr>\n",
       "                        <th id=\"T_dc0d7_level0_row1\" class=\"row_heading level0 row1\" >1</th>\n",
       "                        <td id=\"T_dc0d7_row1_col0\" class=\"data row1 col0\" >Активные клиенты</td>\n",
       "                        <td id=\"T_dc0d7_row1_col1\" class=\"data row1 col1\" >652.189</td>\n",
       "                        <td id=\"T_dc0d7_row1_col2\" class=\"data row1 col2\" >37.754</td>\n",
       "                        <td id=\"T_dc0d7_row1_col3\" class=\"data row1 col3\" >5.052</td>\n",
       "                        <td id=\"T_dc0d7_row1_col4\" class=\"data row1 col4\" >119660.944</td>\n",
       "                        <td id=\"T_dc0d7_row1_col5\" class=\"data row1 col5\" >0.707</td>\n",
       "                        <td id=\"T_dc0d7_row1_col6\" class=\"data row1 col6\" >0.533</td>\n",
       "                        <td id=\"T_dc0d7_row1_col7\" class=\"data row1 col7\" >100452.013</td>\n",
       "                        <td id=\"T_dc0d7_row1_col8\" class=\"data row1 col8\" >0.076</td>\n",
       "            </tr>\n",
       "            <tr>\n",
       "                        <th id=\"T_dc0d7_level0_row2\" class=\"row_heading level0 row2\" >2</th>\n",
       "                        <td id=\"T_dc0d7_row2_col0\" class=\"data row2 col0\" >Обычные клиенты</td>\n",
       "                        <td id=\"T_dc0d7_row2_col1\" class=\"data row2 col1\" >649.121</td>\n",
       "                        <td id=\"T_dc0d7_row2_col2\" class=\"data row2 col2\" >39.673</td>\n",
       "                        <td id=\"T_dc0d7_row2_col3\" class=\"data row2 col3\" >4.975</td>\n",
       "                        <td id=\"T_dc0d7_row2_col4\" class=\"data row2 col4\" >119894.164</td>\n",
       "                        <td id=\"T_dc0d7_row2_col5\" class=\"data row2 col5\" >0.704</td>\n",
       "                        <td id=\"T_dc0d7_row2_col6\" class=\"data row2 col6\" >0.504</td>\n",
       "                        <td id=\"T_dc0d7_row2_col7\" class=\"data row2 col7\" >99487.257</td>\n",
       "                        <td id=\"T_dc0d7_row2_col8\" class=\"data row2 col8\" >0.277</td>\n",
       "            </tr>\n",
       "            <tr>\n",
       "                        <th id=\"T_dc0d7_level0_row3\" class=\"row_heading level0 row3\" >3</th>\n",
       "                        <td id=\"T_dc0d7_row3_col0\" class=\"data row3 col0\" >Продвинутые клиенты</td>\n",
       "                        <td id=\"T_dc0d7_row3_col1\" class=\"data row3 col1\" >648.105</td>\n",
       "                        <td id=\"T_dc0d7_row3_col2\" class=\"data row3 col2\" >43.195</td>\n",
       "                        <td id=\"T_dc0d7_row3_col3\" class=\"data row3 col3\" >5.004</td>\n",
       "                        <td id=\"T_dc0d7_row3_col4\" class=\"data row3 col4\" >119475.686</td>\n",
       "                        <td id=\"T_dc0d7_row3_col5\" class=\"data row3 col5\" >0.714</td>\n",
       "                        <td id=\"T_dc0d7_row3_col6\" class=\"data row3 col6\" >0.425</td>\n",
       "                        <td id=\"T_dc0d7_row3_col7\" class=\"data row3 col7\" >104318.131</td>\n",
       "                        <td id=\"T_dc0d7_row3_col8\" class=\"data row3 col8\" >0.827</td>\n",
       "            </tr>\n",
       "    </tbody></table>"
      ],
      "text/plain": [
       "<pandas.io.formats.style.Styler at 0x7f2d4460c0a0>"
      ]
     },
     "execution_count": 148,
     "metadata": {},
     "output_type": "execute_result"
    }
   ],
   "source": [
    "# выводим статистику по средним значениям наших признаков по сегментам\n",
    "segments = data.groupby('segments').mean().reset_index().drop(columns=['user_id', 'products'])\n",
    "numeric_columns = segments.drop(columns=['segments']).columns\n",
    "\n",
    "# подсветим минимальные и максимальные значения по каждому показателю\n",
    "segments.style.format({i: '{:.3f}' for i in numeric_columns}) \\\n",
    "    .highlight_max(color='yellowgreen', subset=numeric_columns) \\\n",
    "    .highlight_min(color='coral', subset=numeric_columns)"
   ]
  },
  {
   "cell_type": "markdown",
   "metadata": {},
   "source": [
    "#### Вывод"
   ]
  },
  {
   "cell_type": "markdown",
   "metadata": {},
   "source": [
    "Опишем сегменты:\n",
    "\n",
    "* У **VIP - клиентов** наибольший балл кредитного скоринга, наивысший средний возраст, наибольшее кол-во объектов в собственности, самый высокий средний баланс на счете, все клиенты из данного сегмента попали в отток.\n",
    "* У **Активных клиентов** самый низкий процент оттока, самый низкий средний возраст и наивысший показатель активных клиентов.\n",
    "* У **Обычных клиентов** самый низкий показатель средней заработной платы.\n",
    "* У **Продвинутых клиентов** самый низкий балл кредитного скоринга, самый низкий средний баланс на счете, наибольший процент клиентов имеет кредитную карту, самый низкий процент клиентов по активности.\n",
    "\n",
    "Таким образом можно заметить, что довольно значимый для банка сегмент **VIP-клиенты** имеет 100% отток. Это может быть связано с невыгодными условиями (высокой комиссией за пользование продуктами, низкими процентами по вкладам). Также можно предположить, что для данного сегмента в банке осуществляется недостаточно хорошее обслуживание (нет личного менеджера, общий зал ожидания, мало индивидуальных предложений)."
   ]
  },
  {
   "cell_type": "markdown",
   "metadata": {},
   "source": [
    "### Построим распределения признаков для сегментов"
   ]
  },
  {
   "cell_type": "code",
   "execution_count": 149,
   "metadata": {},
   "outputs": [],
   "source": [
    "#выделим датасет только с количественными признаками\n",
    "df1_s = data.drop(['user_id','city', 'gender', 'credit_card', 'loyalty', 'churn'], axis = 1)"
   ]
  },
  {
   "cell_type": "code",
   "execution_count": 150,
   "metadata": {},
   "outputs": [],
   "source": [
    "#выделим датасет только с качественными признаками\n",
    "df2_s = data.drop(['user_id', 'churn','score','age','objects', 'balance', 'products',\n",
    "                  'estimated_salary'], axis = 1)"
   ]
  },
  {
   "cell_type": "code",
   "execution_count": 151,
   "metadata": {},
   "outputs": [
    {
     "data": {
      "image/png": "[encoded data removed]",
      "text/plain": [
       "<Figure size 1440x1440 with 6 Axes>"
      ]
     },
     "metadata": {
      "needs_background": "light"
     },
     "output_type": "display_data"
    }
   ],
   "source": [
    "#построим гистограммы распределения методом histplot() для количественных признаков\n",
    "\n",
    "fig, axs = plt.subplots(nrows=3, ncols=2, figsize=(20, 20))\n",
    "plt.subplots_adjust(hspace=0.3)\n",
    "\n",
    "for col, ax in zip(df1_s.columns, axs.ravel()):\n",
    "    hp = sns.histplot(data=data.sort_values(by='products'), x=col, hue='segments', palette=\"Paired\", ax=ax, kde=True)\n",
    "    hp.legend(title='Статус клиента', labels=['VIP-клиенты', 'Продвинутые клиенты', 'Активные клиенты', 'Обычные клиенты'])\n",
    "    ax.grid()\n",
    "    ax.set_title(f'Распределение по {col}')\n",
    "    ax.set_xlabel('Признак')\n",
    "    ax.set_ylabel('Кол-во клиентов')"
   ]
  },
  {
   "cell_type": "code",
   "execution_count": 152,
   "metadata": {},
   "outputs": [
    {
     "data": {
      "image/png": "[encoded data removed]",
      "text/plain": [
       "<Figure size 1440x1440 with 4 Axes>"
      ]
     },
     "metadata": {
      "needs_background": "light"
     },
     "output_type": "display_data"
    }
   ],
   "source": [
    "#построим гистограммы распределения методом countplot() для категориальных признаков\n",
    "\n",
    "fig, axs = plt.subplots(nrows=2, ncols=2, figsize=(20, 20))\n",
    "plt.subplots_adjust(hspace=0.3)\n",
    "\n",
    "for col, ax in zip(df2_s.columns, axs.ravel()):\n",
    "    cp = sns.countplot(data=data.sort_values(by='products'), x=col, hue='segments', palette=\"Paired\", ax=ax)\n",
    "    cp.legend(title='Статус клиента', labels=['Обычные клиенты', 'Активные клиенты', 'Продвинутые клиенты', 'VIP-клиенты'])\n",
    "    ax.grid()\n",
    "    ax.set_title(f'Распределение по {col}')\n",
    "    ax.set_xlabel('Признак')\n",
    "    ax.set_ylabel('Кол-во клиентов')"
   ]
  },
  {
   "cell_type": "markdown",
   "metadata": {},
   "source": [
    "#### Вывод"
   ]
  },
  {
   "cell_type": "markdown",
   "metadata": {},
   "source": [
    "К выводам, приведенным ранее, можно добавить:\n",
    "\n",
    "* Большинство клиентов по каждому сегменту из г. Ярославль\n",
    "* Среди Обычных и Активных клиентов больше мужчин, а среди Продвинутых и VIP клинетов - больше женщин.\n",
    "* Большая часть клинетов по всем сегментам являются обладателями кредитной карты."
   ]
  },
  {
   "cell_type": "markdown",
   "metadata": {},
   "source": [
    "### Вывод"
   ]
  },
  {
   "cell_type": "markdown",
   "metadata": {},
   "source": [
    "* Мы ведилили 4 сегмента клиентов: **Обычные клиенты, Активные клиенты, Продвинутые клиенты и VIP-клиенты.** Основная часть клиентов приходится на сегмент \"Обычные клиенты\" - 51%, 46% приходится на сегмент \"Активные клиенты\", 3% приходится на сегмент \"Продвинутые клиенты\", менее 1% представляет сегмент \"VIP-клиенты\".\n",
    "\n",
    "* Методами groupby() и mean() мы построили таблицу со средними значениями признаков и привели краткое описание каждого сегмента:\n",
    " * У **VIP - клиентов** наибольший балл кредитного скоринга, наивысший средний возраст, наибольшее кол-во объектов в собственности, самый высокий средний баланс на счете, все клиенты из данного сегмента попали в отток.\n",
    " * У **Активных клиентов** самый низкий процент оттока, самый низкий средний возраст и наивысший показатель активных клиентов.\n",
    " * У **Обычных клиентов** самый низкий показатель средней заработной платы.\n",
    " * У **Продвинутых клиентов** самый низкий балл кредитного скоринга, самый низкий средний баланс на счете, наибольший процент клиентов имеет кредитную карту, самый низкий процент клиентов по активности.\n",
    "\n",
    "Можно отметить, что довольно значимый для банка сегмент **VIP-клиенты имеет 100% отток**. Это может быть связано с невыгодными условиями (высокой комиссией за пользование продуктами, низкими процентами по вкладам). Также можно предположить, что для данного сегмента в банке осуществляется недостаточно хорошее обслуживание (нет личного менеджера, общий зал ожидания, мало индивидуальных предложений).\n",
    "\n",
    "* Затем мы построили для качественных и количественных признаков каждого сегмента распределения и дополнили выводы: \n",
    " * Большинство клиентов по каждому сегменту из г. Ярославль\n",
    " * Среди Обычных и Активных клиентов больше мужчин, а среди Продвинутых и VIP клинетов - больше женщин.\n",
    " * Большая часть клинетов по всем сегментам являются обладателями кредитной карты."
   ]
  },
  {
   "cell_type": "markdown",
   "metadata": {},
   "source": [
    "## Проверка гипотезы различия дохода между теми клиентами, которые пользуются двумя продуктами банка, и теми, которые пользуются одним."
   ]
  },
  {
   "cell_type": "markdown",
   "metadata": {},
   "source": [
    "Итак, проверим гипотезу: доход между теми клиентами, которые пользуются двумя продуктами банка, и теми, которые пользуются одним - различается. Сформулируем нулевую и альтернативную гипотезы. Т.к. нам надо проверить различаются ли доход клиентов, то значит доход одного клиента может быть как больше, так и меньше дохода другого, соответственно нам необходимо проверить двустороннюю гипотезу.\n",
    "\n",
    "**Н0: Средний доход между теми клиентами, которые пользуются двумя продуктами банка, и средний доход между теми, которые пользуются одним, равны**.\n",
    "\n",
    "**H1: Средний доход между теми клиентами, которые пользуются двумя продуктами банка, и средний доход между теми, которые пользуются одним, не равны**.\n",
    "\n",
    "Для проверки гипотезы о равенстве средних двух генеральных совокупностей мы будем использовать метод **scipy_stats.ttest_ind()**, который возвращает статистику разности и уровень значимости для этой статистики. Нулевая гипотеза отвергается, если статистика разности довольно большая. Решение будем принимать по **pvalue**.\n",
    "\n",
    "В качестве **порогового значения примем 5%**.\n"
   ]
  },
  {
   "cell_type": "code",
   "execution_count": 153,
   "metadata": {},
   "outputs": [
    {
     "name": "stdout",
     "output_type": "stream",
     "text": [
      "0.41047183624949335\n",
      "Отвергнуть гипотезу не можем\n"
     ]
    }
   ],
   "source": [
    "#создадим две выборки данных, отфильтровав их по кол-ву продуктов, в таблице выведем заработную плату клиентов\n",
    "one_products = data[data['products']==1]['estimated_salary']\n",
    "two_products = data[data['products']==2]['estimated_salary'] \n",
    "\n",
    "results = st.ttest_ind(one_products,two_products)\n",
    "alpha = 0.05\n",
    "\n",
    "print(results.pvalue)\n",
    "\n",
    "if results.pvalue < alpha:\n",
    "    print('Принимаем альтернативную гипотезу')\n",
    "else:\n",
    "    print('Отвергнуть гипотезу не можем')"
   ]
  },
  {
   "cell_type": "markdown",
   "metadata": {},
   "source": [
    "### Вывод"
   ]
  },
  {
   "cell_type": "markdown",
   "metadata": {},
   "source": [
    "Т.к. pvalue значительно больше 0,05, мы не можем отвергнуть нулевую гипотезу, а значит нет оснований полагать, что средние доходы обеих групп существенно различаются."
   ]
  },
  {
   "cell_type": "markdown",
   "metadata": {},
   "source": [
    "## Проверка статистической гипотезы относительно представленных данных."
   ]
  },
  {
   "cell_type": "markdown",
   "metadata": {},
   "source": [
    "Итак, проверим гипотезу: средний балл кредитного скоринга у клиентов сегмента \"Обычные клиенты\" и клиентов сегмента \"VIP-клиенты\" различается.\n",
    "\n",
    "Т.к. нам надо проверить различаются ли балл кредитного скоринга клиентов, то значит балл одного клиента может быть как больше, так и меньше балла другого, соответственно нам необходимо проверить двустороннюю гипотезу.\n",
    "\n",
    "**Н0: Средний балл кредитного скоринга между клиентами сегмента \"Обычные клиенты\" и средний балл между клиентами сегмента \"VIP-клиенты\" равны**.\n",
    "\n",
    "**H1: Средний балл кредитного скоринга между клиентами сегмента \"Обычные клиенты\" и средний балл между клиентами сегмента \"VIP-клиенты\" не равны**.\n",
    "\n",
    "Для проверки гипотезы о равенстве средних двух генеральных совокупностей мы будем использовать метод **scipy_stats.ttest_ind()**, который возвращает статистику разности и уровень значимости для этой статистики. Нулевая гипотеза отвергается, если статистика разности довольно большая. Решение будем принимать по **pvalue**.\n",
    "\n",
    "В качестве **порогового значения примем 5%**.\n"
   ]
  },
  {
   "cell_type": "code",
   "execution_count": 154,
   "metadata": {},
   "outputs": [
    {
     "name": "stdout",
     "output_type": "stream",
     "text": [
      "0.7238450338316702\n",
      "Отвергнуть гипотезу не можем\n"
     ]
    }
   ],
   "source": [
    "#создадим две выборки данных, отфильтровав их по сегментам, в таблице выведем балл кредитного скоринга\n",
    "score_1 = data[data['segments']=='Обычные клиенты']['score']\n",
    "score_4 = data[data['segments']=='VIP - клиенты']['score'] \n",
    "\n",
    "results = st.ttest_ind(score_1,score_4)\n",
    "alpha = 0.05\n",
    "\n",
    "print(results.pvalue)\n",
    "\n",
    "if results.pvalue < alpha:\n",
    "    print('Принимаем альтернативную гипотезу')\n",
    "else:\n",
    "    print('Отвергнуть гипотезу не можем')"
   ]
  },
  {
   "cell_type": "markdown",
   "metadata": {},
   "source": [
    "### Вывод"
   ]
  },
  {
   "cell_type": "markdown",
   "metadata": {},
   "source": [
    "Т.к. pvalue довольно большое, мы принимаем нулевую гипотезу, соответственно можно сделать вывод, что средние значения скоринга по обеим выборкам не имеют статистически значимых различий."
   ]
  },
  {
   "cell_type": "markdown",
   "metadata": {},
   "source": [
    "## Общий вывод"
   ]
  },
  {
   "cell_type": "markdown",
   "metadata": {},
   "source": [
    "Подведем итоги нашего исследования:\n",
    "\n",
    "1. Изначально мы подгрузили необходимые для работы библиотеки, прочитали файл и ознакомились с данными. Отметили некорректный стиль в наименовании колонок. Затем мы ознакомились с основной информацией по данным и обнаружили,  что в данных присутствует бинарная замена категориальных признаков.\n",
    "\n",
    "\n",
    "2. На этапе предобработки данных мы привели названия колонок к нижнему змеинному регистру, проверили данные на наличие  явных и неявных дубликатов, которые в последствии не обнаружили. В колонке balance в ходе проверки данных на пропуски мы обнаружили существенное кол-во пропущенных значений. Мы проанализировали данные в различных разрезах и выяснили, что у клиентов, которые имеют кредитную карту, имеется существенное кол-во пропусков в колонке balance. Можно предположить, что данные клиенты живут засчет кредитки, соответственно на счету отсутствуют средства.\n",
    "\n",
    "\n",
    "3. Изучив средние значения и стандартные отклонения датасета, мы определили:\n",
    "\n",
    " * Средний балл кредитного скоринга составляет **650**\n",
    " * Средний возраст клиентов **38 лет**\n",
    " * Клиенты банка имеют в среднем **5 объектов собственности**\n",
    " * Средний баланс на счетах клиентов **119827**\n",
    " * В среднем клиенты банка имеют один продукт\n",
    " * Больше, чем у **70%** клиентов имеется кредитная карта\n",
    " * **51%** клиентов являются активными\n",
    " * В среднем заработная плата клиента составляет **100090**\n",
    " * Отток клиентов равен **20%**.\n",
    "\n",
    "\n",
    "4. Мы сгруппировали данные по оттоку и вывели средние значения признаков. В разрезе по группам пользователей оставшимся и ушедшим можно сделать выводы:\n",
    "\n",
    " * У ушедших клиентов средний бал кредитного скоринга ниже, а возраст выше\n",
    " * По кол-ву объектов в собственности и количеству продуктов существенной разницы между группами не наблюдается\n",
    " * Средний баланс на счете у ушедших клиентов немного выше\n",
    " * У **70%** в обеих группам имеется кредитная карта\n",
    " * Среди ушедших клиентов всего **36%** являлись активными\n",
    " * Средняя заработная плата ушедших клиентов немного выше.\n",
    "\n",
    "\n",
    "5. Далее мы построили графики распределения по количественным и неколичественным признакам в разрезе ушедших/оставшихся клиентов. Проанализировав графики, мы дополнили выводы о том, что:\n",
    "\n",
    " * Возраст большинства ушедших клиентов составляет **40+**\n",
    " * Большее кол-во ушедших клиентов имели в банке всего **один продукт**\n",
    " * Больше всего ушедших отмечается по **г. Ростов Великий**\n",
    " * Ушедших **женщин** больше, чем мужчин\n",
    "\n",
    "> Можно предположить, что среди ушедших преобладают клиенты более старшего возраста, в связи с тем, что банк возможно ориентирован на более молодую аудиторию. Стоит также задуматься, почему ушедшие клиенты имели всего один продукт, возможно банк предлагает мало продуктов с бесплатным обслуживанием на пробный период. \n",
    "\n",
    "\n",
    "6. Мы построили матрицу корреляций, которая показала, что явной зависимости оттока от других признаков не наблюдается. Матрица корреляции, расчитанная методом Спирмена также показывает, что явных взаимосвязей между признаками нет.\n",
    "\n",
    "\n",
    "7. На основании кол-ва продуктов мы выделили 4 сегмента клиентов: \n",
    " * Обычные клиенты \n",
    " * Активные клиенты\n",
    " * Продвинутые клиенты \n",
    " * VIP-клиенты.\n",
    "\n",
    "Основная часть клиентов **51%** приходится на сегмент **\"Обычные клиенты\"**, **46%** приходится на сегмент **\"Активные клиенты\"**, **3%** приходится на сегмент **\"Продвинутые клиенты\"**, **менее 1%** представляет сегмент **\"VIP-клиенты\"**.\n",
    "\n",
    "8. Затем построили таблицу со средними значениями признаков и привели краткое описание каждого сегмента:\n",
    " * У **VIP - клиентов** наибольший балл кредитного скоринга, наивысший средний возраст, наибольшее кол-во объектов в собственности, самый высокий средний баланс на счете, все клиенты из данного сегмента попали в отток.\n",
    " * У **Активных клиентов** самый низкий процент оттока, самый низкий средний возраст и наивысший показатель активных клиентов.\n",
    " * У **Обычных клиентов** самый низкий показатель средней заработной платы.\n",
    " * У **Продвинутых клиентов** самый низкий балл кредитного скоринга, самый низкий средний баланс на счете, наибольший процент клиентов имеет кредитную карту, самый низкий процент клиентов по активности.\n",
    "\n",
    "> Можно отметить, что довольно значимый для банка сегмент **VIP-клиенты имеет 100% отток**. Это может быть связано с невыгодными условиями (высокой комиссией за пользование продуктами, низкими процентами по вкладам). Также можно предположить, что для данного сегмента в банке осуществляется недостаточно хорошее обслуживание (нет личного менеджера, общий зал ожидания, мало индивидуальных предложений).\n",
    "\n",
    "\n",
    "9. Затем мы построили для качественных и количественных признаков каждого сегмента распределения и дополнили выводы: \n",
    " * Большинство клиентов по каждому сегменту из **г. Ярославль**\n",
    " * Среди Обычных и Активных клиентов больше мужчин, а **среди Продвинутых и VIP клинетов - больше женщин**.\n",
    " * **Большая часть клиентов** по всем сегментам **являются обладателями кредитной карты**.\n",
    " \n",
    " \n",
    "10. В конце мы осуществили проверку статистической гипотезы о том, что доход между теми клиентами, которые пользуются двумя продуктами банка, и теми, которые пользуются одним - различается и выяснили, что у нас нет оснований полагать, что средние значения обеих выборок существенно различаются. Также мы проверили гипотезу касаемо различий среднего балла кредитного скоринга у клиентов сегмента \"Обычные клиенты\" и среднего балла клиентов сегмента \"VIP-клиенты\" и пришли к выводу, что средние по обеим выборкам не имеют статистически значимых различий.\n",
    "\n",
    "\n",
    "**В качестве возможных причин оттока клиентов можно выделить следующие:**\n",
    "\n",
    "    ✏️ Отстутсвие заинтересованности более зрелых клиентов (40+) в предоставляемых банковских продуктах.\n",
    " \n",
    "    ✏️ Некомфортные условия обслуживания клиентов VIP сегмента.\n",
    " \n",
    "    ✏️ Отсутствие  возможности у клиентов с одним банковским продуктом протестировать новые продукты на выгодных условиях.\n"
   ]
  },
  {
   "cell_type": "markdown",
   "metadata": {},
   "source": [
    "## Рекомендации"
   ]
  },
  {
   "cell_type": "markdown",
   "metadata": {},
   "source": [
    "Исходя из выводов, описанных выше,  в качестве рекомендаций можно выделить следующие:\n",
    "\n",
    "✔️ Разработать банковские продукты для возрастной категории 40+ (например, пенсионные карты/вклады на особых условиях, повышенный кэшбэк на определенные категории - аптеки, медицинские учреждения).\n",
    "    \n",
    "✔️ Проанализировать условия обслуживания VIP-клиентов (имеются ли персональные менеджеры, отдельный комфортный зал ожидания, проанализировать предоставляемые возможности использования онлайн-сервисов для бизнеса).\n",
    "    \n",
    "✔️ Разработать промо-акции по тестированию новых продуктов с бесплатным периодом обслуживания, с повышенным процентом/кэшбэком на льготный период."
   ]
  }
 ],
 "metadata": {
  "ExecuteTimeLog": [
   {
    "duration": 1286,
    "start_time": "2022-08-04T09:13:44.462Z"
   },
   {
    "duration": 168,
    "start_time": "2022-08-04T09:13:45.750Z"
   },
   {
    "duration": 10,
    "start_time": "2022-08-04T09:13:45.919Z"
   },
   {
    "duration": 5,
    "start_time": "2022-08-04T09:13:45.931Z"
   },
   {
    "duration": 7,
    "start_time": "2022-08-04T09:13:45.937Z"
   },
   {
    "duration": 7,
    "start_time": "2022-08-04T09:13:45.945Z"
   },
   {
    "duration": 4,
    "start_time": "2022-08-04T09:13:45.953Z"
   },
   {
    "duration": 13,
    "start_time": "2022-08-04T09:13:45.958Z"
   },
   {
    "duration": 10,
    "start_time": "2022-08-04T09:13:45.973Z"
   },
   {
    "duration": 10,
    "start_time": "2022-08-04T09:13:45.985Z"
   },
   {
    "duration": 12,
    "start_time": "2022-08-04T09:13:45.996Z"
   },
   {
    "duration": 9,
    "start_time": "2022-08-04T09:13:46.009Z"
   },
   {
    "duration": 4,
    "start_time": "2022-08-04T09:13:46.019Z"
   },
   {
    "duration": 5,
    "start_time": "2022-08-04T09:13:46.054Z"
   },
   {
    "duration": 43,
    "start_time": "2022-08-04T09:13:46.060Z"
   },
   {
    "duration": 56,
    "start_time": "2022-08-04T09:13:46.105Z"
   },
   {
    "duration": 4,
    "start_time": "2022-08-04T09:13:46.162Z"
   },
   {
    "duration": 6,
    "start_time": "2022-08-04T09:13:46.167Z"
   },
   {
    "duration": 1946,
    "start_time": "2022-08-04T09:13:46.175Z"
   },
   {
    "duration": 494,
    "start_time": "2022-08-04T09:13:48.123Z"
   },
   {
    "duration": 883,
    "start_time": "2022-08-04T09:13:48.618Z"
   },
   {
    "duration": 15,
    "start_time": "2022-08-04T09:13:49.502Z"
   },
   {
    "duration": 1170,
    "start_time": "2022-08-04T09:13:49.518Z"
   },
   {
    "duration": 9,
    "start_time": "2022-08-04T09:13:50.689Z"
   },
   {
    "duration": 5,
    "start_time": "2022-08-04T09:13:50.699Z"
   },
   {
    "duration": 11,
    "start_time": "2022-08-04T09:13:50.705Z"
   },
   {
    "duration": 19,
    "start_time": "2022-08-04T09:13:50.717Z"
   },
   {
    "duration": 149,
    "start_time": "2022-08-04T09:13:50.739Z"
   },
   {
    "duration": 227,
    "start_time": "2022-08-04T09:13:50.890Z"
   },
   {
    "duration": 4,
    "start_time": "2022-08-04T09:13:51.118Z"
   },
   {
    "duration": 10,
    "start_time": "2022-08-04T09:13:51.123Z"
   },
   {
    "duration": 2842,
    "start_time": "2022-08-04T09:13:51.134Z"
   },
   {
    "duration": 595,
    "start_time": "2022-08-04T09:13:53.978Z"
   },
   {
    "duration": 7,
    "start_time": "2022-08-04T09:13:54.574Z"
   },
   {
    "duration": 11,
    "start_time": "2022-08-04T09:13:54.582Z"
   },
   {
    "duration": 222,
    "start_time": "2022-08-04T09:13:54.595Z"
   },
   {
    "duration": 137,
    "start_time": "2022-08-04T09:14:16.566Z"
   },
   {
    "duration": 152,
    "start_time": "2022-08-04T09:15:36.210Z"
   },
   {
    "duration": 201,
    "start_time": "2022-08-04T09:17:41.340Z"
   },
   {
    "duration": 209,
    "start_time": "2022-08-04T09:17:56.870Z"
   },
   {
    "duration": 216,
    "start_time": "2022-08-04T09:21:06.597Z"
   },
   {
    "duration": 3,
    "start_time": "2022-08-04T09:21:10.126Z"
   },
   {
    "duration": 54,
    "start_time": "2022-08-04T09:21:10.134Z"
   },
   {
    "duration": 12,
    "start_time": "2022-08-04T09:21:10.189Z"
   },
   {
    "duration": 8,
    "start_time": "2022-08-04T09:21:10.203Z"
   },
   {
    "duration": 8,
    "start_time": "2022-08-04T09:21:10.213Z"
   },
   {
    "duration": 24,
    "start_time": "2022-08-04T09:21:10.223Z"
   },
   {
    "duration": 8,
    "start_time": "2022-08-04T09:21:10.248Z"
   },
   {
    "duration": 14,
    "start_time": "2022-08-04T09:21:10.257Z"
   },
   {
    "duration": 12,
    "start_time": "2022-08-04T09:21:10.272Z"
   },
   {
    "duration": 15,
    "start_time": "2022-08-04T09:21:10.285Z"
   },
   {
    "duration": 11,
    "start_time": "2022-08-04T09:21:10.302Z"
   },
   {
    "duration": 45,
    "start_time": "2022-08-04T09:21:10.314Z"
   },
   {
    "duration": 6,
    "start_time": "2022-08-04T09:21:10.360Z"
   },
   {
    "duration": 9,
    "start_time": "2022-08-04T09:21:10.368Z"
   },
   {
    "duration": 39,
    "start_time": "2022-08-04T09:21:10.378Z"
   },
   {
    "duration": 58,
    "start_time": "2022-08-04T09:21:10.419Z"
   },
   {
    "duration": 3,
    "start_time": "2022-08-04T09:21:10.479Z"
   },
   {
    "duration": 8,
    "start_time": "2022-08-04T09:21:10.483Z"
   },
   {
    "duration": 1899,
    "start_time": "2022-08-04T09:21:10.492Z"
   },
   {
    "duration": 563,
    "start_time": "2022-08-04T09:21:12.392Z"
   },
   {
    "duration": 866,
    "start_time": "2022-08-04T09:21:12.957Z"
   },
   {
    "duration": 15,
    "start_time": "2022-08-04T09:21:13.825Z"
   },
   {
    "duration": 1368,
    "start_time": "2022-08-04T09:21:13.843Z"
   },
   {
    "duration": 8,
    "start_time": "2022-08-04T09:21:15.213Z"
   },
   {
    "duration": 3,
    "start_time": "2022-08-04T09:21:15.223Z"
   },
   {
    "duration": 7,
    "start_time": "2022-08-04T09:21:15.227Z"
   },
   {
    "duration": 28,
    "start_time": "2022-08-04T09:21:15.236Z"
   },
   {
    "duration": 9,
    "start_time": "2022-08-04T09:21:15.265Z"
   },
   {
    "duration": 51,
    "start_time": "2022-08-04T09:21:15.275Z"
   },
   {
    "duration": 3,
    "start_time": "2022-08-04T09:21:15.328Z"
   },
   {
    "duration": 6,
    "start_time": "2022-08-04T09:21:15.332Z"
   },
   {
    "duration": 3189,
    "start_time": "2022-08-04T09:21:15.339Z"
   },
   {
    "duration": 691,
    "start_time": "2022-08-04T09:21:18.530Z"
   },
   {
    "duration": 9,
    "start_time": "2022-08-04T09:21:19.223Z"
   },
   {
    "duration": 45,
    "start_time": "2022-08-04T09:21:19.234Z"
   },
   {
    "duration": 158,
    "start_time": "2022-08-04T09:21:19.280Z"
   },
   {
    "duration": 337,
    "start_time": "2022-08-04T09:21:37.003Z"
   },
   {
    "duration": 102,
    "start_time": "2022-08-04T10:12:28.818Z"
   },
   {
    "duration": 12,
    "start_time": "2022-08-04T10:12:50.050Z"
   },
   {
    "duration": 11,
    "start_time": "2022-08-04T10:12:59.553Z"
   },
   {
    "duration": 4,
    "start_time": "2022-08-04T10:13:03.181Z"
   },
   {
    "duration": 59,
    "start_time": "2022-08-04T10:13:03.188Z"
   },
   {
    "duration": 11,
    "start_time": "2022-08-04T10:13:03.249Z"
   },
   {
    "duration": 15,
    "start_time": "2022-08-04T10:13:03.261Z"
   },
   {
    "duration": 11,
    "start_time": "2022-08-04T10:13:03.278Z"
   },
   {
    "duration": 24,
    "start_time": "2022-08-04T10:13:03.290Z"
   },
   {
    "duration": 8,
    "start_time": "2022-08-04T10:13:03.315Z"
   },
   {
    "duration": 40,
    "start_time": "2022-08-04T10:13:03.324Z"
   },
   {
    "duration": 16,
    "start_time": "2022-08-04T10:13:03.365Z"
   },
   {
    "duration": 16,
    "start_time": "2022-08-04T10:13:03.382Z"
   },
   {
    "duration": 18,
    "start_time": "2022-08-04T10:13:03.401Z"
   },
   {
    "duration": 15,
    "start_time": "2022-08-04T10:13:03.420Z"
   },
   {
    "duration": 9,
    "start_time": "2022-08-04T10:13:03.437Z"
   },
   {
    "duration": 11,
    "start_time": "2022-08-04T10:13:03.447Z"
   },
   {
    "duration": 48,
    "start_time": "2022-08-04T10:13:03.459Z"
   },
   {
    "duration": 38,
    "start_time": "2022-08-04T10:13:03.509Z"
   },
   {
    "duration": 7,
    "start_time": "2022-08-04T10:13:03.548Z"
   },
   {
    "duration": 14,
    "start_time": "2022-08-04T10:13:03.557Z"
   },
   {
    "duration": 1844,
    "start_time": "2022-08-04T10:13:03.572Z"
   },
   {
    "duration": 503,
    "start_time": "2022-08-04T10:13:05.417Z"
   },
   {
    "duration": 1034,
    "start_time": "2022-08-04T10:13:05.921Z"
   },
   {
    "duration": 14,
    "start_time": "2022-08-04T10:13:06.956Z"
   },
   {
    "duration": 1209,
    "start_time": "2022-08-04T10:13:06.971Z"
   },
   {
    "duration": 7,
    "start_time": "2022-08-04T10:13:08.182Z"
   },
   {
    "duration": 3,
    "start_time": "2022-08-04T10:13:08.191Z"
   },
   {
    "duration": 9,
    "start_time": "2022-08-04T10:13:08.195Z"
   },
   {
    "duration": 13,
    "start_time": "2022-08-04T10:13:08.206Z"
   },
   {
    "duration": 8,
    "start_time": "2022-08-04T10:13:08.221Z"
   },
   {
    "duration": 43,
    "start_time": "2022-08-04T10:13:08.232Z"
   },
   {
    "duration": 3,
    "start_time": "2022-08-04T10:13:08.277Z"
   },
   {
    "duration": 5,
    "start_time": "2022-08-04T10:13:08.282Z"
   },
   {
    "duration": 2996,
    "start_time": "2022-08-04T10:13:08.288Z"
   },
   {
    "duration": 617,
    "start_time": "2022-08-04T10:13:11.286Z"
   },
   {
    "duration": 8,
    "start_time": "2022-08-04T10:13:11.904Z"
   },
   {
    "duration": 14,
    "start_time": "2022-08-04T10:13:11.913Z"
   },
   {
    "duration": 11,
    "start_time": "2022-08-04T10:13:11.928Z"
   },
   {
    "duration": 4,
    "start_time": "2022-08-04T12:20:56.383Z"
   },
   {
    "duration": 61,
    "start_time": "2022-08-04T12:20:56.390Z"
   },
   {
    "duration": 21,
    "start_time": "2022-08-04T12:20:56.453Z"
   },
   {
    "duration": 18,
    "start_time": "2022-08-04T12:20:56.478Z"
   },
   {
    "duration": 11,
    "start_time": "2022-08-04T12:20:56.498Z"
   },
   {
    "duration": 10,
    "start_time": "2022-08-04T12:20:56.511Z"
   },
   {
    "duration": 9,
    "start_time": "2022-08-04T12:20:56.524Z"
   },
   {
    "duration": 21,
    "start_time": "2022-08-04T12:20:56.535Z"
   },
   {
    "duration": 27,
    "start_time": "2022-08-04T12:20:56.558Z"
   },
   {
    "duration": 25,
    "start_time": "2022-08-04T12:20:56.587Z"
   },
   {
    "duration": 182,
    "start_time": "2022-08-04T12:20:56.616Z"
   },
   {
    "duration": 28,
    "start_time": "2022-08-04T12:20:56.800Z"
   },
   {
    "duration": 24,
    "start_time": "2022-08-04T12:20:56.830Z"
   },
   {
    "duration": 25,
    "start_time": "2022-08-04T12:20:56.866Z"
   },
   {
    "duration": 10,
    "start_time": "2022-08-04T12:20:56.893Z"
   },
   {
    "duration": 14,
    "start_time": "2022-08-04T12:20:56.905Z"
   },
   {
    "duration": 52,
    "start_time": "2022-08-04T12:20:56.921Z"
   },
   {
    "duration": 51,
    "start_time": "2022-08-04T12:20:56.975Z"
   },
   {
    "duration": 5,
    "start_time": "2022-08-04T12:20:57.028Z"
   },
   {
    "duration": 49,
    "start_time": "2022-08-04T12:20:57.035Z"
   },
   {
    "duration": 2036,
    "start_time": "2022-08-04T12:20:57.086Z"
   },
   {
    "duration": 555,
    "start_time": "2022-08-04T12:20:59.124Z"
   },
   {
    "duration": 1137,
    "start_time": "2022-08-04T12:20:59.681Z"
   },
   {
    "duration": 19,
    "start_time": "2022-08-04T12:21:00.819Z"
   },
   {
    "duration": 1266,
    "start_time": "2022-08-04T12:21:00.840Z"
   },
   {
    "duration": 8,
    "start_time": "2022-08-04T12:21:02.108Z"
   },
   {
    "duration": 6,
    "start_time": "2022-08-04T12:21:02.118Z"
   },
   {
    "duration": 14,
    "start_time": "2022-08-04T12:21:02.125Z"
   },
   {
    "duration": 18,
    "start_time": "2022-08-04T12:21:02.154Z"
   },
   {
    "duration": 20,
    "start_time": "2022-08-04T12:21:02.174Z"
   },
   {
    "duration": 36,
    "start_time": "2022-08-04T12:21:02.195Z"
   },
   {
    "duration": 5,
    "start_time": "2022-08-04T12:21:02.232Z"
   },
   {
    "duration": 37,
    "start_time": "2022-08-04T12:21:02.238Z"
   },
   {
    "duration": 3349,
    "start_time": "2022-08-04T12:21:02.276Z"
   },
   {
    "duration": 821,
    "start_time": "2022-08-04T12:21:05.627Z"
   },
   {
    "duration": 16,
    "start_time": "2022-08-04T12:21:06.461Z"
   },
   {
    "duration": 18,
    "start_time": "2022-08-04T12:21:06.479Z"
   }
  ],
  "kernelspec": {
   "display_name": "Python 3 (ipykernel)",
   "language": "python",
   "name": "python3"
  },
  "language_info": {
   "codemirror_mode": {
    "name": "ipython",
    "version": 3
   },
   "file_extension": ".py",
   "mimetype": "text/x-python",
   "name": "python",
   "nbconvert_exporter": "python",
   "pygments_lexer": "ipython3",
   "version": "3.9.5"
  },
  "toc": {
   "base_numbering": 1,
   "nav_menu": {},
   "number_sections": true,
   "sideBar": true,
   "skip_h1_title": true,
   "title_cell": "Table of Contents",
   "title_sidebar": "Contents",
   "toc_cell": false,
   "toc_position": {
    "height": "calc(100% - 180px)",
    "left": "10px",
    "top": "150px",
    "width": "165px"
   },
   "toc_section_display": true,
   "toc_window_display": true
  }
 },
 "nbformat": 4,
 "nbformat_minor": 2
}
